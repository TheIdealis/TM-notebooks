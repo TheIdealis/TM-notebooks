{
 "cells": [
  {
   "cell_type": "code",
   "execution_count": 1,
   "metadata": {},
   "outputs": [],
   "source": [
    "import sympy as sy\n",
    "sy.init_printing()"
   ]
  },
  {
   "cell_type": "code",
   "execution_count": 2,
   "metadata": {},
   "outputs": [
    {
     "data": {
      "image/png": "[encoded data removed]",
      "text/latex": [
       "$\\displaystyle \\left[\\begin{matrix}0 & 1\\\\- w^{2} & - 2 t\\end{matrix}\\right]$"
      ],
      "text/plain": [
       "⎡ 0    1  ⎤\n",
       "⎢         ⎥\n",
       "⎢  2      ⎥\n",
       "⎣-w   -2⋅t⎦"
      ]
     },
     "execution_count": 2,
     "metadata": {},
     "output_type": "execute_result"
    }
   ],
   "source": [
    "t, w = sy.symbols('t w')\n",
    "M = sy.Matrix([[0, 1],\n",
    "               [-w**2, -2*t]])\n",
    "M"
   ]
  },
  {
   "cell_type": "code",
   "execution_count": 3,
   "metadata": {},
   "outputs": [
    {
     "data": {
      "image/png": "[encoded data removed]",
      "text/latex": [
       "$\\displaystyle \\left[ \\left( - t - \\sqrt{\\left(t - w\\right) \\left(t + w\\right)}, \\  1, \\  \\left[ \\left[\\begin{matrix}- \\frac{1}{t + \\sqrt{t^{2} - w^{2}}}\\\\1\\end{matrix}\\right]\\right]\\right), \\  \\left( - t + \\sqrt{\\left(t - w\\right) \\left(t + w\\right)}, \\  1, \\  \\left[ \\left[\\begin{matrix}- \\frac{1}{t - \\sqrt{t^{2} - w^{2}}}\\\\1\\end{matrix}\\right]\\right]\\right)\\right]$"
      ],
      "text/plain": [
       "⎡⎛                             ⎡⎡      -1        ⎤⎤⎞  ⎛                       \n",
       "⎢⎜                             ⎢⎢────────────────⎥⎥⎟  ⎜                       \n",
       "⎢⎜       _________________     ⎢⎢       _________⎥⎥⎟  ⎜       ________________\n",
       "⎢⎜-t - ╲╱ (t - w)⋅(t + w) , 1, ⎢⎢      ╱  2    2 ⎥⎥⎟, ⎜-t + ╲╱ (t - w)⋅(t + w)\n",
       "⎢⎜                             ⎢⎢t + ╲╱  t  - w  ⎥⎥⎟  ⎜                       \n",
       "⎢⎜                             ⎢⎢                ⎥⎥⎟  ⎜                       \n",
       "⎣⎝                             ⎣⎣       1        ⎦⎦⎠  ⎝                       \n",
       "\n",
       "      ⎡⎡      -1        ⎤⎤⎞⎤\n",
       "      ⎢⎢────────────────⎥⎥⎟⎥\n",
       "_     ⎢⎢       _________⎥⎥⎟⎥\n",
       " , 1, ⎢⎢      ╱  2    2 ⎥⎥⎟⎥\n",
       "      ⎢⎢t - ╲╱  t  - w  ⎥⎥⎟⎥\n",
       "      ⎢⎢                ⎥⎥⎟⎥\n",
       "      ⎣⎣       1        ⎦⎦⎠⎦"
      ]
     },
     "execution_count": 3,
     "metadata": {},
     "output_type": "execute_result"
    }
   ],
   "source": [
    "M.eigenvects()"
   ]
  },
  {
   "cell_type": "markdown",
   "metadata": {},
   "source": [
    "So, the eigenvalues are $\\lambda_{\\pm} = -\\tau \\pm \\sqrt{\\tau^2 - \\omega_0^2} = -\\tau \\pm \\omega$ and the eigenvectors:\n",
    "$$\n",
    "    u_{\\pm} = \n",
    "    \\begin{pmatrix}\n",
    "        1 \\\\\n",
    "        \\lambda_{\\pm}\n",
    "    \\end{pmatrix}\n",
    "$$\n",
    "and therefore\n",
    "$$\n",
    "    T = \n",
    "    \\begin{pmatrix}\n",
    "        1 & 1\\\\\n",
    "        \\lambda_{+} & \\lambda_{-}\n",
    "    \\end{pmatrix}\n",
    "$$"
   ]
  },
  {
   "cell_type": "code",
   "execution_count": 4,
   "metadata": {},
   "outputs": [
    {
     "data": {
      "image/png": "[encoded data removed]",
      "text/latex": [
       "$\\displaystyle \\left[\\begin{matrix}1 & 1\\\\l_{1} & l_{2}\\end{matrix}\\right]$"
      ],
      "text/plain": [
       "⎡1   1 ⎤\n",
       "⎢      ⎥\n",
       "⎣l₁  l₂⎦"
      ]
     },
     "execution_count": 4,
     "metadata": {},
     "output_type": "execute_result"
    }
   ],
   "source": [
    "l1, l2 = sy.symbols('l1 l2')\n",
    "T = sy.Matrix([[1, 1],\n",
    "               [l1, l2]])\n",
    "T"
   ]
  },
  {
   "cell_type": "code",
   "execution_count": 5,
   "metadata": {},
   "outputs": [
    {
     "data": {
      "image/png": "[encoded data removed]",
      "text/latex": [
       "$\\displaystyle \\left[\\begin{matrix}\\frac{l_{2}}{- l_{1} + l_{2}} & - \\frac{1}{- l_{1} + l_{2}}\\\\- \\frac{l_{1}}{- l_{1} + l_{2}} & \\frac{1}{- l_{1} + l_{2}}\\end{matrix}\\right]$"
      ],
      "text/plain": [
       "⎡   l₂       -1    ⎤\n",
       "⎢────────  ────────⎥\n",
       "⎢-l₁ + l₂  -l₁ + l₂⎥\n",
       "⎢                  ⎥\n",
       "⎢  -l₁        1    ⎥\n",
       "⎢────────  ────────⎥\n",
       "⎣-l₁ + l₂  -l₁ + l₂⎦"
      ]
     },
     "execution_count": 5,
     "metadata": {},
     "output_type": "execute_result"
    }
   ],
   "source": [
    "Ti = T.inv()\n",
    "Ti\n",
    "# sy.simplify(Ti * T)"
   ]
  },
  {
   "cell_type": "markdown",
   "metadata": {},
   "source": [
    "The inverse is given by\n",
    "$$\n",
    "    T = \\frac{1}{\\lambda_+ - \\lambda_-}\n",
    "    \\begin{pmatrix}\n",
    "        -\\lambda_- & 1\\\\\n",
    "        \\lambda_+ & -1\n",
    "    \\end{pmatrix}\n",
    "$$"
   ]
  },
  {
   "cell_type": "code",
   "execution_count": 6,
   "metadata": {},
   "outputs": [
    {
     "data": {
      "image/png": "[encoded data removed]",
      "text/latex": [
       "$\\displaystyle \\left[\\begin{matrix}\\frac{l_{1}^{2} - w^{2}}{2 \\sqrt{t^{2} - w^{2}}} & 0\\\\0 & \\frac{- l_{2}^{2} + w^{2}}{2 \\sqrt{t^{2} - w^{2}}}\\end{matrix}\\right]$"
      ],
      "text/plain": [
       "⎡     2    2                   ⎤\n",
       "⎢   l₁  - w                    ⎥\n",
       "⎢──────────────        0       ⎥\n",
       "⎢     _________                ⎥\n",
       "⎢    ╱  2    2                 ⎥\n",
       "⎢2⋅╲╱  t  - w                  ⎥\n",
       "⎢                              ⎥\n",
       "⎢                      2    2  ⎥\n",
       "⎢                  - l₂  + w   ⎥\n",
       "⎢      0         ──────────────⎥\n",
       "⎢                     _________⎥\n",
       "⎢                    ╱  2    2 ⎥\n",
       "⎣                2⋅╲╱  t  - w  ⎦"
      ]
     },
     "execution_count": 6,
     "metadata": {},
     "output_type": "execute_result"
    }
   ],
   "source": [
    "sy.simplify((Ti * M * T).subs(l1, -t + sy.sqrt(t**2 - w**2)).subs(l2, -t - sy.sqrt(t**2 - w**2))).subs(-t - sy.sqrt(t**2 - w**2), l2).subs(-t + sy.sqrt(t**2 - w**2), l1)"
   ]
  },
  {
   "cell_type": "markdown",
   "metadata": {},
   "source": [
    "Almost!"
   ]
  },
  {
   "cell_type": "code",
   "execution_count": 7,
   "metadata": {},
   "outputs": [
    {
     "data": {
      "image/png": "[encoded data removed]",
      "text/latex": [
       "$\\displaystyle \\left[\\begin{matrix}e^{l_{1}} & 0\\\\0 & e^{l_{2}}\\end{matrix}\\right]$"
      ],
      "text/plain": [
       "⎡ l₁     ⎤\n",
       "⎢ℯ     0 ⎥\n",
       "⎢        ⎥\n",
       "⎢      l₂⎥\n",
       "⎣ 0   ℯ  ⎦"
      ]
     },
     "execution_count": 7,
     "metadata": {},
     "output_type": "execute_result"
    }
   ],
   "source": [
    "D = sy.Matrix([[l1, 0],\n",
    "               [0, l2]])\n",
    "De = sy.exp(D)\n",
    "De"
   ]
  },
  {
   "cell_type": "code",
   "execution_count": 8,
   "metadata": {},
   "outputs": [
    {
     "data": {
      "image/png": "[encoded data removed]",
      "text/latex": [
       "$\\displaystyle \\left[\\begin{matrix}\\frac{l_{1} e^{l_{2}} - l_{2} e^{l_{1}}}{l_{1} - l_{2}} & \\frac{e^{l_{1}} - e^{l_{2}}}{l_{1} - l_{2}}\\\\\\frac{l_{1} l_{2} \\left(- e^{l_{1}} + e^{l_{2}}\\right)}{l_{1} - l_{2}} & \\frac{l_{1} e^{l_{1}} - l_{2} e^{l_{2}}}{l_{1} - l_{2}}\\end{matrix}\\right]$"
      ],
      "text/plain": [
       "⎡      l₂       l₁        l₁    l₂   ⎤\n",
       "⎢  l₁⋅ℯ   - l₂⋅ℯ         ℯ   - ℯ     ⎥\n",
       "⎢  ───────────────       ─────────   ⎥\n",
       "⎢      l₁ - l₂            l₁ - l₂    ⎥\n",
       "⎢                                    ⎥\n",
       "⎢      ⎛   l₁    l₂⎞      l₁       l₂⎥\n",
       "⎢l₁⋅l₂⋅⎝- ℯ   + ℯ  ⎠  l₁⋅ℯ   - l₂⋅ℯ  ⎥\n",
       "⎢───────────────────  ───────────────⎥\n",
       "⎣      l₁ - l₂            l₁ - l₂    ⎦"
      ]
     },
     "execution_count": 8,
     "metadata": {},
     "output_type": "execute_result"
    }
   ],
   "source": [
    "sy.simplify(T * De * Ti)"
   ]
  },
  {
   "cell_type": "markdown",
   "metadata": {},
   "source": [
    "So we find\n",
    "$$\n",
    "Te^{Dt}T^{-1} = \\frac{1}{\\lambda_+ - \\lambda_-}\n",
    "\\begin{pmatrix}\n",
    "    \\lambda_+ e^{\\lambda_- t} - \\lambda_- e^{\\lambda_+ t} & e^{\\lambda_+ t} - e^{\\lambda_- t} \\\\\n",
    "    \\lambda_+\\lambda_- (e^{\\lambda_- t} - e^{\\lambda_+ t}) & \\lambda_+ e^{\\lambda_+ t} - \\lambda_- e^{\\lambda_- t} \n",
    "\\end{pmatrix} = \\frac{1}{2 \\omega}\n",
    "\\begin{pmatrix}\n",
    "    e^{-\\tau t} (\\omega(e^{\\omega t} + e^{\\omega t}) + \\tau(e^{\\omega t} - e^{-\\omega t}) ) & e^{-\\tau t} (e^{\\omega t} - e^{-\\omega t}) \\\\\n",
    "    \\omega_0 e^{-\\tau t}(e^{-\\omega t} + e^{\\omega t}) & e^{-\\tau t}(\\omega(e^{\\omega t} + e^{-\\omega t}) - \\tau(e^{\\omega t} - e^{-\\omega t}))\n",
    "\\end{pmatrix}\n",
    "$$"
   ]
  },
  {
   "cell_type": "markdown",
   "metadata": {},
   "source": [
    "So we find\n",
    "$$\n",
    "    r(t) = (T e^{Dt} T^{-1}x(0))_1 = \n",
    "    \\frac{1}{2 \\omega} (r_0 e^{-\\tau t} (\\omega(e^{\\omega t} + e^{\\omega t}) + \\tau(e^{\\omega t} + e^{-\\omega t}) ) + v_0 e^{-\\tau t} (e^{\\omega t} - e^{-\\omega t}))\n",
    "$$"
   ]
  },
  {
   "cell_type": "code",
   "execution_count": null,
   "metadata": {},
   "outputs": [],
   "source": []
  }
 ],
 "metadata": {
  "kernelspec": {
   "display_name": "Python 3",
   "language": "python",
   "name": "python3"
  },
  "language_info": {
   "codemirror_mode": {
    "name": "ipython",
    "version": 3
   },
   "file_extension": ".py",
   "mimetype": "text/x-python",
   "name": "python",
   "nbconvert_exporter": "python",
   "pygments_lexer": "ipython3",
   "version": "3.7.9"
  }
 },
 "nbformat": 4,
 "nbformat_minor": 4
}
