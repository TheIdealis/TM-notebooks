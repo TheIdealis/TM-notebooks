{
 "cells": [
  {
   "cell_type": "code",
   "execution_count": 1,
   "metadata": {},
   "outputs": [],
   "source": [
    "%matplotlib ipympl\n",
    "def figure(name, nrows=1, ncols=1, *args, **kwargs):\n",
    "    plt.close(name)\n",
    "    return plt.subplots(nrows, ncols, num=name, *args, **kwargs)\n",
    "\n",
    "import numpy as np\n",
    "import pylab as plt\n",
    "plt.style.use('default')"
   ]
  },
  {
   "cell_type": "code",
   "execution_count": 2,
   "metadata": {},
   "outputs": [],
   "source": [
    "from scipy.integrate import solve_ivp\n",
    "from ipywidgets import HBox, IntSlider, FloatSlider"
   ]
  },
  {
   "cell_type": "code",
   "execution_count": 10,
   "metadata": {},
   "outputs": [],
   "source": [
    "# import them directly to save space\n",
    "from numpy import sin, cos"
   ]
  },
  {
   "cell_type": "code",
   "execution_count": 249,
   "metadata": {},
   "outputs": [],
   "source": [
    "# Some useful functions\n",
    "deg2rad = lambda deg: np.pi * deg / 180\n",
    "\n",
    "def get_cart_coords(y):\n",
    "    cart = np.zeros_like(y)\n",
    "    cart[0] = y[2]\n",
    "    cart[2] = y[2] + sin(y[0])*l\n",
    "    cart[3] = -cos(y[0])*l\n",
    "    return cart\n",
    "\n",
    "def get_ana(t, p0):\n",
    "    w = np.sqrt(1 + m2/m1)*np.sqrt(g/l)\n",
    "#     w = np.sqrt(g/l)\n",
    "#     print(w)\n",
    "    return p0 * np.cos(w*t)"
   ]
  },
  {
   "cell_type": "code",
   "execution_count": 250,
   "metadata": {},
   "outputs": [],
   "source": [
    "# phi, dot(phi), x, dot(x)\n",
    "def derivative(t, y):\n",
    "    dy = np.zeros(4)\n",
    "    dy[0] = y[1]\n",
    "    dy[1] = m2/M*(l*sin(y[0])*cos(y[0])*y[1]**2 + g*sin(y[0])) / ((m2/M*cos(y[0])**2 - 1)*l)\n",
    "    dy[2] = y[3]\n",
    "    dy[3] = m2/M*l*(+y[1]**2*sin(y[0]) - dy[1]*cos(y[0]))\n",
    "    return dy"
   ]
  },
  {
   "cell_type": "code",
   "execution_count": 255,
   "metadata": {},
   "outputs": [],
   "source": [
    "times = np.linspace(0, 10, 1000)\n",
    "m1, m2 = 100, 1\n",
    "M = m1 + m2\n",
    "g = 9.81\n",
    "l = 1\n",
    "Y0 = [deg2rad(5), 0, 0, 0]\n",
    "# Y0 = [-2, -2, 0, 0]"
   ]
  },
  {
   "cell_type": "code",
   "execution_count": 256,
   "metadata": {},
   "outputs": [
    {
     "data": {
      "application/vnd.jupyter.widget-view+json": {
       "model_id": "3c2ba25f75144c8dbabba564daffa29f",
       "version_major": 2,
       "version_minor": 0
      },
      "text/plain": [
       "Canvas(toolbar=Toolbar(toolitems=[('Home', 'Reset original view', 'home', 'home'), ('Back', 'Back to previous …"
      ]
     },
     "metadata": {},
     "output_type": "display_data"
    },
    {
     "data": {
      "text/plain": [
       "<matplotlib.legend.Legend at 0x7f3ad62bc210>"
      ]
     },
     "execution_count": 256,
     "metadata": {},
     "output_type": "execute_result"
    }
   ],
   "source": [
    "sol = solve_ivp(derivative, [times[0], times[-1]], Y0, t_eval=times, \n",
    "                method='DOP853',\n",
    "#                 method='LSODA',\n",
    "#                 method='RK23'\n",
    "               )\n",
    "coords = get_cart_coords(sol.y)\n",
    "fig, ax = figure('example')\n",
    "\n",
    "ax.plot(sol.t, sol.y[0], label='phi')\n",
    "ax.plot(sol.t, get_ana(sol.t, Y0[0]), 'k--')\n",
    "ax.plot(sol.t, sol.y[2], label='x')\n",
    "ax.legend()"
   ]
  },
  {
   "cell_type": "code",
   "execution_count": 246,
   "metadata": {},
   "outputs": [
    {
     "data": {
      "application/vnd.jupyter.widget-view+json": {
       "model_id": "2a4421549f9049bfa9f5723160be00d3",
       "version_major": 2,
       "version_minor": 0
      },
      "text/plain": [
       "Canvas(toolbar=Toolbar(toolitems=[('Home', 'Reset original view', 'home', 'home'), ('Back', 'Back to previous …"
      ]
     },
     "metadata": {},
     "output_type": "display_data"
    },
    {
     "data": {
      "application/vnd.jupyter.widget-view+json": {
       "model_id": "eba0d0d2dfeb4e4091301372d04f816d",
       "version_major": 2,
       "version_minor": 0
      },
      "text/plain": [
       "IntSlider(value=0, description='t: ', max=1000)"
      ]
     },
     "metadata": {},
     "output_type": "display_data"
    }
   ],
   "source": [
    "def get_slider():\n",
    "    st = IntSlider(\n",
    "        orientation='horizontal', description='t: ',\n",
    "        value=0, min=0, max=1000\n",
    "    )\n",
    "    ti = st.value\n",
    "    \n",
    "    plt.close('first_w')\n",
    "    fig, ax = figure('first_w', 1, 1, figsize=(10, 5))\n",
    "    lines = [ax.plot([coords[0, ti]], [coords[1, ti]], 'ko')[0],\n",
    "             ax.plot([coords[2, ti]], [coords[3, ti]], 'ko')[0],\n",
    "             ax.plot([coords[0, ti], coords[2, ti]], [coords[1, ti], coords[3, ti]], 'k-')[0],\n",
    "            ]  \n",
    "    \n",
    "    ax.set_xlim([-1.1 * l, 3 * 1.1 * l])\n",
    "    ax.set_ylim([-1.1 * l, 1.1 * l])\n",
    "    def redraw(change):\n",
    "        ti = st.value\n",
    "        xlim = np.sum(ax.get_xlim())/2\n",
    "        if coords[0, ti] > xlim + 1.1*l:\n",
    "            ax.set_xlim([xlim, 4 * 1.1 * l + xlim])\n",
    "        if coords[0, ti] < xlim - 1.2*l:\n",
    "            ax.set_xlim([-4 * 1.1 * l + xlim, xlim])\n",
    "        lines[0].set_data([coords[0, ti]], [coords[1, ti]])\n",
    "        lines[1].set_data([coords[2, ti]], [coords[3, ti]])\n",
    "        lines[2].set_data([coords[0, ti], coords[2, ti]], [coords[1, ti], coords[3, ti]])\n",
    "        fig.canvas.draw()\n",
    "        fig.canvas.flush_events()\n",
    "    \n",
    "    st.observe(redraw, names='value')\n",
    "    return st\n",
    "\n",
    "get_slider()"
   ]
  },
  {
   "cell_type": "code",
   "execution_count": null,
   "metadata": {},
   "outputs": [],
   "source": []
  },
  {
   "cell_type": "code",
   "execution_count": null,
   "metadata": {},
   "outputs": [],
   "source": []
  }
 ],
 "metadata": {
  "kernelspec": {
   "display_name": "Python 3",
   "language": "python",
   "name": "python3"
  },
  "language_info": {
   "codemirror_mode": {
    "name": "ipython",
    "version": 3
   },
   "file_extension": ".py",
   "mimetype": "text/x-python",
   "name": "python",
   "nbconvert_exporter": "python",
   "pygments_lexer": "ipython3",
   "version": "3.7.8"
  }
 },
 "nbformat": 4,
 "nbformat_minor": 4
}
