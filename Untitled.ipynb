{
 "cells": [
  {
   "cell_type": "code",
   "execution_count": 2,
   "metadata": {},
   "outputs": [],
   "source": [
    "%matplotlib ipympl\n",
    "def figure(name, nrows=1, ncols=1, *args, **kwargs):\n",
    "    plt.close(name)\n",
    "    return plt.subplots(nrows, ncols, num=name, *args, **kwargs)\n",
    "\n",
    "import numpy as np\n",
    "import pylab as plt\n",
    "plt.style.use('default')"
   ]
  },
  {
   "cell_type": "code",
   "execution_count": 74,
   "metadata": {},
   "outputs": [],
   "source": [
    "I1, I2, I3 = 1, 1.5, 2\n",
    "E = 1\n",
    "M2 = 2 * E * I1\n",
    "R, Phi = np.meshgrid(np.linspace(0, np.sqrt(M2)*0.999999, 100), np.linspace(0, 2*np.pi, 50))\n",
    "X, Y = R * np.cos(Phi), R * np.sin(Phi)\n",
    "\n",
    "Z1 = np.sqrt(M2 - X**2 - Y**2)\n",
    "Z2 = np.sqrt(I3 * (2*E - X**2/I1 - Y**2/I2))"
   ]
  },
  {
   "cell_type": "code",
   "execution_count": 77,
   "metadata": {},
   "outputs": [
    {
     "data": {
      "application/vnd.jupyter.widget-view+json": {
       "model_id": "67c8a7ab23664e93a83e6423abc63b15",
       "version_major": 2,
       "version_minor": 0
      },
      "text/plain": [
       "Canvas(toolbar=Toolbar(toolitems=[('Home', 'Reset original view', 'home', 'home'), ('Back', 'Back to previous …"
      ]
     },
     "metadata": {},
     "output_type": "display_data"
    },
    {
     "data": {
      "text/plain": [
       "<mpl_toolkits.mplot3d.art3d.Line3DCollection at 0x7f169397e150>"
      ]
     },
     "execution_count": 77,
     "metadata": {},
     "output_type": "execute_result"
    }
   ],
   "source": [
    "plt.close('test_rot')\n",
    "fig = plt.figure('test_rot', figsize=(5, 5))\n",
    "fig.tight_layout()\n",
    "ax = fig.add_subplot(111, projection='3d')\n",
    "ax.set_xlim([-np.sqrt(M2)*1.1, np.sqrt(M2)*1.1])\n",
    "ax.set_ylim([-np.sqrt(M2)*1.1, np.sqrt(M2)*1.1])\n",
    "ax.set_zlim([0, np.sqrt(M2)*1.1])\n",
    "ax.set_box_aspect((1, 1, .5))\n",
    "ax.plot_wireframe(X, Y, Z1)\n",
    "ax.plot_wireframe(X, Y, Z2, color='r')"
   ]
  },
  {
   "cell_type": "code",
   "execution_count": 51,
   "metadata": {},
   "outputs": [
    {
     "data": {
      "text/plain": [
       "1.7320508075688772"
      ]
     },
     "execution_count": 51,
     "metadata": {},
     "output_type": "execute_result"
    }
   ],
   "source": [
    "np.sqrt(M2)"
   ]
  },
  {
   "cell_type": "code",
   "execution_count": null,
   "metadata": {},
   "outputs": [],
   "source": []
  }
 ],
 "metadata": {
  "kernelspec": {
   "display_name": "Python 3",
   "language": "python",
   "name": "python3"
  },
  "language_info": {
   "codemirror_mode": {
    "name": "ipython",
    "version": 3
   },
   "file_extension": ".py",
   "mimetype": "text/x-python",
   "name": "python",
   "nbconvert_exporter": "python",
   "pygments_lexer": "ipython3",
   "version": "3.7.8"
  }
 },
 "nbformat": 4,
 "nbformat_minor": 4
}
