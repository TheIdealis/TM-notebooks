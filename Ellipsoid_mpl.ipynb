{
 "cells": [
  {
   "cell_type": "code",
   "execution_count": 1,
   "metadata": {},
   "outputs": [],
   "source": [
    "%matplotlib ipympl\n",
    "def figure(name, nrows=1, ncols=1, *args, **kwargs):\n",
    "    plt.close(name)\n",
    "    return plt.subplots(nrows, ncols, num=name, *args, **kwargs)\n",
    "\n",
    "import numpy as np\n",
    "import pylab as plt\n",
    "plt.style.use('default')"
   ]
  },
  {
   "cell_type": "code",
   "execution_count": 2,
   "metadata": {},
   "outputs": [],
   "source": [
    "from mpl_toolkits.mplot3d import Axes3D\n",
    "from functools import reduce\n",
    "from numba import njit\n",
    "from ipywidgets import HBox, IntSlider, FloatSlider, FloatLogSlider, RadioButtons, Select"
   ]
  },
  {
   "cell_type": "markdown",
   "metadata": {},
   "source": [
    "Der folgende Code besteht im Wesentlichen aus ein paar mehr oder weniger erfolglosen Versuchen, zwei sich schneidene Flächen mit Hilfe von `matplotlib` darzustellen. Um das Video am Ende des notebooks einzufügen, müssen Sie zuerst `Ellipsoid_pv.ipynb` ausführen."
   ]
  },
  {
   "cell_type": "code",
   "execution_count": 3,
   "metadata": {},
   "outputs": [],
   "source": [
    "def make_ellipsiod(a, b, c, N, full=True):\n",
    "    if full:\n",
    "        theta = np.linspace(0, np.pi, N)\n",
    "    else:\n",
    "        theta = np.linspace(0, np.pi/2, N)\n",
    "    phi = np.linspace(0, 2*np.pi, N)\n",
    "    #r = np.linspace(0, 1, N)\n",
    "    The, Phi= np.meshgrid(theta, phi)\n",
    "    X = a * np.sin(The) * np.cos(Phi)\n",
    "    Y = b * np.sin(The) * np.sin(Phi)\n",
    "    Z = c * np.cos(The)\n",
    "    return np.array([X, Y, Z])"
   ]
  },
  {
   "cell_type": "code",
   "execution_count": 4,
   "metadata": {},
   "outputs": [
    {
     "data": {
      "application/vnd.jupyter.widget-view+json": {
       "model_id": "e5810d8e91c94a36b4c9c931d3645703",
       "version_major": 2,
       "version_minor": 0
      },
      "text/plain": [
       "Canvas(toolbar=Toolbar(toolitems=[('Home', 'Reset original view', 'home', 'home'), ('Back', 'Back to previous …"
      ]
     },
     "metadata": {},
     "output_type": "display_data"
    }
   ],
   "source": [
    "I1, I2, I3 = 1, 1.5, 2\n",
    "E = 1\n",
    "M = np.sqrt(2*E*1.1)\n",
    "paras = [np.sqrt(2*E*I1), np.sqrt(2*E*I2), np.sqrt(2*E*I3)]\n",
    "\n",
    "L = make_ellipsiod(*paras, 40)\n",
    "K = make_ellipsiod(M, M, M, 40)\n",
    "\n",
    "plt.close('test_rot')\n",
    "fig = plt.figure('test_rot', figsize=(5, 5))\n",
    "ax = fig.add_subplot(111, projection='3d')\n",
    "ax.plot_surface(*L, alpha=0.5)\n",
    "ax.plot_surface(*K, alpha=0.5)\n",
    "# Achsen skalieren\n",
    "ax.set_box_aspect([np.ptp(Li) for Li in L]) "
   ]
  },
  {
   "cell_type": "code",
   "execution_count": 5,
   "metadata": {},
   "outputs": [
    {
     "data": {
      "application/vnd.jupyter.widget-view+json": {
       "model_id": "6f56ef4ca40b4d2ab0901d9445329887",
       "version_major": 2,
       "version_minor": 0
      },
      "text/plain": [
       "Canvas(toolbar=Toolbar(toolitems=[('Home', 'Reset original view', 'home', 'home'), ('Back', 'Back to previous …"
      ]
     },
     "metadata": {},
     "output_type": "display_data"
    }
   ],
   "source": [
    "Ll = L.reshape((3, 40*40))\n",
    "Kl = K.reshape((3, 40*40))\n",
    "\n",
    "plt.close('test_scat')\n",
    "fig = plt.figure('test_scat', figsize=(5, 5))\n",
    "ax = fig.add_subplot(111, projection='3d')\n",
    "ax.scatter(*Ll, alpha=0.5)\n",
    "ax.scatter(*Kl, alpha=0.5)\n",
    "\n",
    "# Achsen skalieren\n",
    "ax.set_box_aspect([np.ptp(Li) for Li in L]) "
   ]
  },
  {
   "cell_type": "code",
   "execution_count": 6,
   "metadata": {},
   "outputs": [],
   "source": [
    "@njit(cache=True)\n",
    "def search_close(E, R, eps=1e-1):\n",
    "    E = E.reshape((3, E.shape[1]**2))\n",
    "    points = []\n",
    "    for i in range(E.shape[1]):\n",
    "        z = np.sqrt(R**2 - E[0, i]**2 - E[1, i]**2)\n",
    "        if np.abs(E[2, i] - z) < eps:\n",
    "            points.append(E[:, i].copy())\n",
    "            points.append(E[:, i].copy())\n",
    "            points[-1][2] = - points[-1][2] \n",
    "    return points\n",
    "points = np.array(search_close(L, M))"
   ]
  },
  {
   "cell_type": "code",
   "execution_count": 7,
   "metadata": {},
   "outputs": [
    {
     "data": {
      "text/plain": [
       "(56, 3)"
      ]
     },
     "execution_count": 7,
     "metadata": {},
     "output_type": "execute_result"
    }
   ],
   "source": [
    "points.shape"
   ]
  },
  {
   "cell_type": "code",
   "execution_count": 8,
   "metadata": {},
   "outputs": [
    {
     "data": {
      "application/vnd.jupyter.widget-view+json": {
       "model_id": "4e5c4bfd0ef6478d9b23cffc7e95c8e0",
       "version_major": 2,
       "version_minor": 0
      },
      "text/plain": [
       "Canvas(toolbar=Toolbar(toolitems=[('Home', 'Reset original view', 'home', 'home'), ('Back', 'Back to previous …"
      ]
     },
     "metadata": {},
     "output_type": "display_data"
    }
   ],
   "source": [
    "plt.close('test_scatter')\n",
    "fig = plt.figure('test_scatter', figsize=(5, 5))\n",
    "ax = fig.add_subplot(111, projection='3d')\n",
    "ax.plot_surface(*L, alpha=0.1)\n",
    "# Achsen skalieren\n",
    "ax.set_box_aspect([np.ptp(Li) for Li in L]) \n",
    "N = 1000\n",
    "L2 = make_ellipsiod(*paras, N)\n",
    "Ms = np.linspace(np.sqrt(2 * E * I1), np.sqrt(2 * E * I3), 7)\n",
    "for M in Ms:\n",
    "    ax.scatter(*np.array(search_close(L2, M, eps=0.01)).T)"
   ]
  },
  {
   "cell_type": "code",
   "execution_count": 9,
   "metadata": {},
   "outputs": [
    {
     "data": {
      "application/vnd.jupyter.widget-view+json": {
       "model_id": "966e49e6b25c43ee971b926e8ec3ec48",
       "version_major": 2,
       "version_minor": 0
      },
      "text/plain": [
       "Canvas(toolbar=Toolbar(toolitems=[('Home', 'Reset original view', 'home', 'home'), ('Back', 'Back to previous …"
      ]
     },
     "metadata": {},
     "output_type": "display_data"
    },
    {
     "data": {
      "application/vnd.jupyter.widget-view+json": {
       "model_id": "2c35b17e7b4242be878b7aa39c39c2eb",
       "version_major": 2,
       "version_minor": 0
      },
      "text/plain": [
       "FloatSlider(value=1.4142135623730951, description='$M$: ', max=2.0, min=1.4142135623730951, step=0.005)"
      ]
     },
     "metadata": {},
     "output_type": "display_data"
    }
   ],
   "source": [
    "def get_slider(name, L):\n",
    "    M_s = FloatSlider(\n",
    "        orientation='horizontal', description='$M$: ',\n",
    "        value=np.sqrt(2*E*I1), min=np.sqrt(2*E*I1), max=np.sqrt(2*E*I3), step = 0.005\n",
    "    )\n",
    "\n",
    "    plt.close(name)\n",
    "    fig = plt.figure(name, figsize=(6, 7))\n",
    "    ax = fig.add_subplot(111, projection='3d')\n",
    "    \n",
    "    ax.plot_surface(*L, alpha=0.2)\n",
    "    N = 500\n",
    "    L2 = make_ellipsiod(*paras, N)\n",
    "    sc = ax.scatter(*np.array(search_close(L2, M_s.value, eps=0.01)).T, color='black')\n",
    "    ax.set_box_aspect([np.ptp(Li) for Li in L]) \n",
    "\n",
    "    def redraw(change):\n",
    "        points = np.array(search_close(L2, M_s.value, eps=0.01)).T\n",
    "            \n",
    "        sc._offsets3d = points\n",
    "            \n",
    "        fig.canvas.draw()\n",
    "        fig.canvas.flush_events()\n",
    "        \n",
    "    M_s.observe(redraw, names='value')\n",
    "    return M_s\n",
    "get_slider('cuts1', L)"
   ]
  },
  {
   "cell_type": "code",
   "execution_count": 10,
   "metadata": {},
   "outputs": [
    {
     "data": {
      "application/vnd.jupyter.widget-view+json": {
       "model_id": "cc9f38ab402d46ae9a345c87207e5c7c",
       "version_major": 2,
       "version_minor": 0
      },
      "text/plain": [
       "Canvas(toolbar=Toolbar(toolitems=[('Home', 'Reset original view', 'home', 'home'), ('Back', 'Back to previous …"
      ]
     },
     "metadata": {},
     "output_type": "display_data"
    },
    {
     "data": {
      "application/vnd.jupyter.widget-view+json": {
       "model_id": "ebae4ad508e6433aba6f9e5c9e6d8209",
       "version_major": 2,
       "version_minor": 0
      },
      "text/plain": [
       "FloatSlider(value=1.4142135623730951, description='$M$: ', max=2.0, min=1.4142135623730951, step=0.005)"
      ]
     },
     "metadata": {},
     "output_type": "display_data"
    }
   ],
   "source": [
    "I1, I2, I3 = 1, 1, 2\n",
    "E = 1\n",
    "paras = [np.sqrt(2*E*I1), np.sqrt(2*E*I2), np.sqrt(2*E*I3)]\n",
    "L = make_ellipsiod(*paras, 40)\n",
    "get_slider('cuts2', L)"
   ]
  },
  {
   "cell_type": "markdown",
   "metadata": {},
   "source": [
    "<video controls src=\"pics/out.mp4\" />"
   ]
  },
  {
   "cell_type": "code",
   "execution_count": null,
   "metadata": {},
   "outputs": [],
   "source": []
  }
 ],
 "metadata": {
  "kernelspec": {
   "display_name": "Python 3",
   "language": "python",
   "name": "python3"
  },
  "language_info": {
   "codemirror_mode": {
    "name": "ipython",
    "version": 3
   },
   "file_extension": ".py",
   "mimetype": "text/x-python",
   "name": "python",
   "nbconvert_exporter": "python",
   "pygments_lexer": "ipython3",
   "version": "3.7.9"
  }
 },
 "nbformat": 4,
 "nbformat_minor": 4
}
