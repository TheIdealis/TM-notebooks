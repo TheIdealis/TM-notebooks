{
 "cells": [
  {
   "cell_type": "markdown",
   "metadata": {},
   "source": [
    "# Taylor expansion"
   ]
  },
  {
   "cell_type": "markdown",
   "metadata": {},
   "source": [
    "Inspired by https://www.r-craft.org/r-news/taylor-series-with-python-and-sympy-revised/"
   ]
  },
  {
   "cell_type": "code",
   "execution_count": 1,
   "metadata": {},
   "outputs": [],
   "source": [
    "%matplotlib ipympl\n",
    "def figure(name, nrows=1, ncols=1, *args, **kwargs):\n",
    "    plt.close(name)\n",
    "    return plt.subplots(nrows, ncols, num=name, *args, **kwargs)\n",
    "\n",
    "import numpy as np\n",
    "import pylab as plt\n",
    "plt.style.use('default')"
   ]
  },
  {
   "cell_type": "code",
   "execution_count": 2,
   "metadata": {},
   "outputs": [],
   "source": [
    "import sympy as sy\n",
    "from sympy.functions import sin, cos, ln, exp, besseli\n",
    "factorial = np.math.factorial\n",
    "from ipywidgets import HBox, IntSlider, FloatSlider, VBox, Text, Layout"
   ]
  },
  {
   "cell_type": "code",
   "execution_count": 3,
   "metadata": {},
   "outputs": [],
   "source": [
    "def taylor(function, x0, n, x = sy.Symbol('x')):\n",
    "    i = 0\n",
    "    p = 0\n",
    "    while i <= n:\n",
    "        p = p + (function.diff(x, i).subs(x, x0))/(factorial(i))*(x - x0)**i\n",
    "        i += 1\n",
    "    return p"
   ]
  },
  {
   "cell_type": "code",
   "execution_count": 4,
   "metadata": {},
   "outputs": [],
   "source": [
    "def taylor_plot(f, fig_num):\n",
    "    order = IntSlider(value=0, min=0, max=30, description='order')\n",
    "    x0 = FloatSlider(value=0, min=-5, max=5, description='x0')\n",
    "    \n",
    "    fig, ax = figure(fig_num)\n",
    "    x = sy.Symbol('x')\n",
    "    N = 300\n",
    "    x1 = np.linspace(-5, 5, N)\n",
    "    func_lambda = sy.lambdify(x, f, \"numpy\")\n",
    "    ax.plot(x1, func_lambda(x1), label = '$f(x)$')\n",
    "    line, = ax.plot(x1, [func_lambda(x0.value)]*N, label='$f_0(x)$')\n",
    "    text = Text(value=f'{func_lambda(x0.value)}', description='Function:', layout=Layout(width='80%'))\n",
    "    L = ax.legend()\n",
    "        \n",
    "    def update_order(change):\n",
    "        func = taylor(f, x0.value, change.new)\n",
    "        taylor_lambda = sy.lambdify(x, func, \"numpy\")\n",
    "        line.set_data(x1, taylor_lambda(x1))\n",
    "        L.get_texts()[1].set_text(f'$f_{{{change.new}}}(x)$')\n",
    "        text.value = str(func)\n",
    "        fig.canvas.draw()\n",
    "        fig.canvas.flush_events()\n",
    "\n",
    "    def update_x0(change):\n",
    "        func = taylor(f, change.new, order.value)\n",
    "        taylor_lambda = sy.lambdify(x, func, \"numpy\")\n",
    "        line.set_data(x1, taylor_lambda(x1))\n",
    "        L.get_texts()[1].set_text(f'$f_{{{order.value}}}(x)$')\n",
    "        text.value = str(func)\n",
    "        fig.canvas.draw()\n",
    "        fig.canvas.flush_events()\n",
    "\n",
    "        \n",
    "    order.observe(update_order, names='value')\n",
    "    x0.observe(update_x0, names='value')\n",
    "    return VBox([HBox([order, x0]), text])"
   ]
  },
  {
   "cell_type": "code",
   "execution_count": 7,
   "metadata": {},
   "outputs": [
    {
     "data": {
      "application/vnd.jupyter.widget-view+json": {
       "model_id": "b1a83ee85f8e487794a4d2ffe3981e45",
       "version_major": 2,
       "version_minor": 0
      },
      "text/plain": [
       "Canvas(toolbar=Toolbar(toolitems=[('Home', 'Reset original view', 'home', 'home'), ('Back', 'Back to previous …"
      ]
     },
     "metadata": {},
     "output_type": "display_data"
    },
    {
     "data": {
      "application/vnd.jupyter.widget-view+json": {
       "model_id": "6c27a7dfa45643e9a06bffc6743268ab",
       "version_major": 2,
       "version_minor": 0
      },
      "text/plain": [
       "VBox(children=(HBox(children=(IntSlider(value=0, description='order', max=30), FloatSlider(value=0.0, descript…"
      ]
     },
     "metadata": {},
     "output_type": "display_data"
    }
   ],
   "source": [
    "x = sy.Symbol('x')\n",
    "# f = cos(x) + 2 * sin(x)\n",
    "f = 1 / (1 + x)\n",
    "# f = besseli(x, 1)\n",
    "# f = ln(x)\n",
    "# f = exp(-x**2)\n",
    "# f = exp(x)\n",
    "taylor_plot(f, 3)"
   ]
  },
  {
   "cell_type": "code",
   "execution_count": null,
   "metadata": {},
   "outputs": [],
   "source": []
  },
  {
   "cell_type": "code",
   "execution_count": null,
   "metadata": {},
   "outputs": [],
   "source": []
  }
 ],
 "metadata": {
  "kernelspec": {
   "display_name": "Python 3",
   "language": "python",
   "name": "python3"
  },
  "language_info": {
   "codemirror_mode": {
    "name": "ipython",
    "version": 3
   },
   "file_extension": ".py",
   "mimetype": "text/x-python",
   "name": "python",
   "nbconvert_exporter": "python",
   "pygments_lexer": "ipython3",
   "version": "3.7.9"
  }
 },
 "nbformat": 4,
 "nbformat_minor": 4
}
