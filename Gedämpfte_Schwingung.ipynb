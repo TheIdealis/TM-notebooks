{
 "cells": [
  {
   "cell_type": "code",
   "execution_count": 1,
   "metadata": {},
   "outputs": [],
   "source": [
    "%matplotlib ipympl\n",
    "def figure(name, nrows=1, ncols=1, *args, **kwargs):\n",
    "    plt.close(name)\n",
    "    return plt.subplots(nrows, ncols, num=name, *args, **kwargs)\n",
    "\n",
    "import numpy as np\n",
    "import pylab as plt\n",
    "plt.style.use('default')"
   ]
  },
  {
   "cell_type": "markdown",
   "metadata": {},
   "source": [
    "For more information have a look here: [https://pundit.pratt.duke.edu/wiki/Python:Ordinary_Differential_Equations](https://pundit.pratt.duke.edu/wiki/Python:Ordinary_Differential_Equations)."
   ]
  },
  {
   "cell_type": "code",
   "execution_count": 2,
   "metadata": {},
   "outputs": [],
   "source": [
    "from ipywidgets import HBox, IntSlider, FloatSlider\n",
    "from scipy.integrate import solve_ivp"
   ]
  },
  {
   "cell_type": "markdown",
   "metadata": {},
   "source": [
    "We start from this equation\n",
    "$$ my'' = -ky - Dy' \\Leftrightarrow y'' + Dy' + ky = 0$$\n",
    "for a damped harmonic oscillator and transform it to a system of first order:\n",
    "$$ \n",
    "    y' = y_0' = y_1 \\\\\n",
    "    y'' = y_1' = -\\frac{k}{m}y_0 -\\frac{D}{m}y_1\n",
    "$$"
   ]
  },
  {
   "cell_type": "code",
   "execution_count": 3,
   "metadata": {},
   "outputs": [],
   "source": [
    "# Implementation of the derivative we just derived\n",
    "def derivative(t, y):\n",
    "    return [y[1], \n",
    "            -k/m*y[0] - D/m*y[1]\n",
    "           ]"
   ]
  },
  {
   "cell_type": "markdown",
   "metadata": {},
   "source": [
    "We also know the analytical solution and can test our numerical results [https://de.wikipedia.org/wiki/Schwingung#Linear_ged%C3%A4mpfte_Schwingung](https://de.wikipedia.org/wiki/Schwingung#Linear_ged%C3%A4mpfte_Schwingung):"
   ]
  },
  {
   "cell_type": "code",
   "execution_count": 4,
   "metadata": {},
   "outputs": [],
   "source": [
    "def analytical_solution(t):\n",
    "    w0 = np.sqrt(k/m)\n",
    "    d = D/(2*m)\n",
    "    if d < w0:\n",
    "        wd = np.sqrt(w0**2 - d**2)\n",
    "        return np.exp(-d*t) * ((Y0[1] + d * Y0[0])/wd * np.sin(wd*t) + Y0[0]*np.cos(wd*t))\n",
    "    elif d==w0:\n",
    "        return (Y0[0] + (Y0[1] + Y0[1]*d)*t)*np.exp(-d*t)\n",
    "    else:\n",
    "        wd = np.sqrt(d**2 - w0**2)\n",
    "        lp = -d + wd\n",
    "        lm = -d - wd\n",
    "        return (Y0[1] - lm*Y0[0])/ (2 * wd) * np.exp(lp*t) - (Y0[1] - lp*Y0[0])/ (2 * wd) * np.exp(lm*t)"
   ]
  },
  {
   "cell_type": "code",
   "execution_count": 5,
   "metadata": {},
   "outputs": [],
   "source": [
    "times = np.linspace(0, 70, 1000)\n",
    "m = 1\n",
    "D = 0.15\n",
    "k = 1\n",
    "Y0 = [1, 1]"
   ]
  },
  {
   "cell_type": "markdown",
   "metadata": {},
   "source": [
    "## First example"
   ]
  },
  {
   "cell_type": "code",
   "execution_count": 6,
   "metadata": {},
   "outputs": [
    {
     "data": {
      "application/vnd.jupyter.widget-view+json": {
       "model_id": "9e51a3b8a3c6414caad2eddf25cabb0b",
       "version_major": 2,
       "version_minor": 0
      },
      "text/plain": [
       "Canvas(toolbar=Toolbar(toolitems=[('Home', 'Reset original view', 'home', 'home'), ('Back', 'Back to previous …"
      ]
     },
     "metadata": {},
     "output_type": "display_data"
    },
    {
     "data": {
      "text/plain": [
       "<matplotlib.legend.Legend at 0x7fa4a3d84690>"
      ]
     },
     "execution_count": 6,
     "metadata": {},
     "output_type": "execute_result"
    }
   ],
   "source": [
    "# You always give solve_ivp the derivative, the [starting_time, end_time], \n",
    "# the initial conditions (Y0) and a list of times at which you want to get the solution\n",
    "sol = solve_ivp(derivative, [times[0], times[-1]], Y0, t_eval=times)\n",
    "fig, ax = figure('example')\n",
    "# y_0 is saved in sol.y[0] and y_1 in sol.y[1]. For an equation of order N, sol.y has N entries\n",
    "ax.plot(sol.t, sol.y[0], label='x')\n",
    "ax.plot(sol.t, analytical_solution(times), 'k--', label='x-analytic')\n",
    "ax.plot(sol.t, sol.y[1], label='v')\n",
    "ax.legend()"
   ]
  },
  {
   "cell_type": "markdown",
   "metadata": {},
   "source": [
    "## Widget"
   ]
  },
  {
   "cell_type": "code",
   "execution_count": 7,
   "metadata": {},
   "outputs": [
    {
     "data": {
      "application/vnd.jupyter.widget-view+json": {
       "model_id": "058615bdae30414bb1f49e7c89f8915e",
       "version_major": 2,
       "version_minor": 0
      },
      "text/plain": [
       "Canvas(toolbar=Toolbar(toolitems=[('Home', 'Reset original view', 'home', 'home'), ('Back', 'Back to previous …"
      ]
     },
     "metadata": {},
     "output_type": "display_data"
    },
    {
     "data": {
      "application/vnd.jupyter.widget-view+json": {
       "model_id": "663d0f5bb92b46aebf0a85a5f3c683f8",
       "version_major": 2,
       "version_minor": 0
      },
      "text/plain": [
       "HBox(children=(FloatSlider(value=1.0, description='k: ', max=2.0, step=0.05), FloatSlider(value=0.15, descript…"
      ]
     },
     "metadata": {},
     "output_type": "display_data"
    }
   ],
   "source": [
    "def get_slider():\n",
    "    slider_k = FloatSlider(\n",
    "        orientation='horizontal', description='k: ',\n",
    "        value=k, min=0, max=2, step = 0.05\n",
    "    )\n",
    "    slider_D = FloatSlider(\n",
    "        orientation='horizontal', description='D: ',\n",
    "        value=D, min=0, max=2, step = 0.05\n",
    "    )\n",
    "\n",
    "    sol = solve_ivp(derivative, [times[0], times[-1]], Y0, t_eval=times)\n",
    "    fig, ax = figure(1, 1, 2, figsize=(10, 5))\n",
    "    lines = [ax[0].plot(times, sol.y[0])[0],\n",
    "             ax[0].plot(times, analytical_solution(sol.t), 'k--')[0],\n",
    "            ax[0].plot(times, sol.y[1])[0],\n",
    "            ax[1].plot(sol.y[0], sol.y[1])[0]]   \n",
    "        \n",
    "    ax[1].set_xlim([-1.5, 1.5])\n",
    "    ax[1].set_ylim([-1.5, 1.5])\n",
    "        \n",
    "    def redraw():\n",
    "        sol = solve_ivp(derivative, [times[0], times[-1]], Y0, t_eval=times)\n",
    "        lines[0].set_data(times, sol.y[0])\n",
    "        lines[1].set_data(times, analytical_solution(sol.t))\n",
    "        lines[2].set_data(times, sol.y[1])\n",
    "        lines[3].set_data(sol.y[0], sol.y[1])\n",
    "        fig.canvas.draw()\n",
    "        fig.canvas.flush_events()\n",
    "\n",
    "    def update_k(change):\n",
    "        global k\n",
    "        k = change.new\n",
    "        redraw()\n",
    "        \n",
    "    def update_D(change):\n",
    "        global D\n",
    "        D = change.new\n",
    "        redraw()\n",
    "        \n",
    "    slider_k.observe(update_k, names='value')\n",
    "    slider_D.observe(update_D, names='value')\n",
    "    return HBox([slider_k, slider_D])\n",
    "\n",
    "get_slider()"
   ]
  },
  {
   "cell_type": "markdown",
   "metadata": {},
   "source": [
    "## Driven Oscillator"
   ]
  },
  {
   "cell_type": "markdown",
   "metadata": {},
   "source": [
    "Now, we add a driving term\n",
    "$$ my'' = -ky - Dy' + F_0\\cos(\\omega t) $$"
   ]
  },
  {
   "cell_type": "code",
   "execution_count": 8,
   "metadata": {},
   "outputs": [],
   "source": [
    "def derivative2(t, y):\n",
    "    return [y[1], \n",
    "            -k/m*y[0] - D/m*y[1] + np.cos(0.5 * t)\n",
    "           ]"
   ]
  },
  {
   "cell_type": "code",
   "execution_count": 9,
   "metadata": {},
   "outputs": [],
   "source": [
    "times = np.linspace(0, 200, 1000)\n",
    "m = 1\n",
    "D = 0.05\n",
    "k = 2\n",
    "Y0 = [1, 1]"
   ]
  },
  {
   "cell_type": "code",
   "execution_count": 10,
   "metadata": {},
   "outputs": [
    {
     "data": {
      "application/vnd.jupyter.widget-view+json": {
       "model_id": "caf3d296cde04cde86e69fd495c6d5e1",
       "version_major": 2,
       "version_minor": 0
      },
      "text/plain": [
       "Canvas(toolbar=Toolbar(toolitems=[('Home', 'Reset original view', 'home', 'home'), ('Back', 'Back to previous …"
      ]
     },
     "metadata": {},
     "output_type": "display_data"
    },
    {
     "data": {
      "text/plain": [
       "<matplotlib.legend.Legend at 0x7fa4a379b2d0>"
      ]
     },
     "execution_count": 10,
     "metadata": {},
     "output_type": "execute_result"
    }
   ],
   "source": [
    "# You always give solve_ivp the derivative, the [starting_time, end_time], \n",
    "# the initial conditions (Y0) and a list of times at which you want to get the solution\n",
    "sol = solve_ivp(derivative2, [times[0], times[-1]], Y0, t_eval=times)\n",
    "fig, ax = figure('example')\n",
    "# y_0 is saved in sol.y[0] and y_1 in sol.y[1]. For an equation of order N, sol.y has N entries\n",
    "ax.plot(sol.t, sol.y[0], label='x')\n",
    "ax.plot(sol.t, sol.y[1], label='v')\n",
    "ax.legend()"
   ]
  },
  {
   "cell_type": "code",
   "execution_count": null,
   "metadata": {},
   "outputs": [],
   "source": []
  }
 ],
 "metadata": {
  "kernelspec": {
   "display_name": "Python 3",
   "language": "python",
   "name": "python3"
  },
  "language_info": {
   "codemirror_mode": {
    "name": "ipython",
    "version": 3
   },
   "file_extension": ".py",
   "mimetype": "text/x-python",
   "name": "python",
   "nbconvert_exporter": "python",
   "pygments_lexer": "ipython3",
   "version": "3.7.8"
  }
 },
 "nbformat": 4,
 "nbformat_minor": 4
}
