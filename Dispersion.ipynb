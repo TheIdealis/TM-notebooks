{
 "cells": [
  {
   "cell_type": "code",
   "execution_count": 29,
   "metadata": {},
   "outputs": [],
   "source": [
    "%matplotlib ipympl\n",
    "def figure(name, nrows=1, ncols=1, *args, **kwargs):\n",
    "    plt.close(name)\n",
    "    return plt.subplots(nrows, ncols, num=name, *args, **kwargs)\n",
    "\n",
    "import numpy as np\n",
    "import pylab as plt\n",
    "plt.style.use('default')"
   ]
  },
  {
   "cell_type": "code",
   "execution_count": 30,
   "metadata": {},
   "outputs": [],
   "source": [
    "from ipywidgets import HBox, IntSlider, FloatSlider\n",
    "from scipy.integrate import solve_ivp, odeint"
   ]
  },
  {
   "cell_type": "code",
   "execution_count": 31,
   "metadata": {},
   "outputs": [],
   "source": [
    "a = 1 \n",
    "N = 20\n",
    "x = np.linspace(-a*N, a*N, 2*N + 1)\n",
    "x2 = np.linspace(-a*N, a*N, 1000)"
   ]
  },
  {
   "cell_type": "code",
   "execution_count": 32,
   "metadata": {},
   "outputs": [
    {
     "data": {
      "application/vnd.jupyter.widget-view+json": {
       "model_id": "45f334b7508442d3beb35690250d6e96",
       "version_major": 2,
       "version_minor": 0
      },
      "text/plain": [
       "Canvas(toolbar=Toolbar(toolitems=[('Home', 'Reset original view', 'home', 'home'), ('Back', 'Back to previous …"
      ]
     },
     "metadata": {},
     "output_type": "display_data"
    },
    {
     "data": {
      "application/vnd.jupyter.widget-view+json": {
       "model_id": "99368d11725a4c47b5517790daeee448",
       "version_major": 2,
       "version_minor": 0
      },
      "text/plain": [
       "FloatSlider(value=0.1, description='f: ', max=1.0, step=0.02)"
      ]
     },
     "metadata": {},
     "output_type": "display_data"
    }
   ],
   "source": [
    "def get_slider():\n",
    "    freq = FloatSlider(\n",
    "        orientation='horizontal', description='f: ',\n",
    "        value=0.1, min=0, max=1, step = 0.02\n",
    "    )\n",
    "\n",
    "    fig, ax = figure(1, figsize=(12, 5))\n",
    "    ax.set_xlabel('x')\n",
    "    ax.set_xlabel('f(x)')\n",
    "    lines = [\n",
    "        ax.plot(x2, np.sin(np.pi*2*freq.value*x2), 'k')[0],\n",
    "        ax.plot(x, np.sin(np.pi*2*freq.value*x), 'ko')[0],\n",
    "        ax.plot(x, np.sin((np.pi*2*freq.value + 2* np.pi)*x), 'rx')[0],\n",
    "        ax.plot(x2, np.sin((np.pi*2*freq.value + 2 * np.pi)*x2), 'r', alpha=0.4)[0],\n",
    "    ]\n",
    "    ax.set_ylim([-1.1, 1.1])\n",
    "    \n",
    "    def redraw(change):\n",
    "        lines[0].set_data(x2, np.sin(np.pi*2*freq.value*x2))\n",
    "        lines[1].set_data(x, np.sin(np.pi*2*freq.value*x))\n",
    "        lines[2].set_data(x, np.sin((np.pi*2*freq.value + 2* np.pi)*x))\n",
    "        lines[3].set_data(x2, np.sin((np.pi*2*freq.value + 2 * np.pi)*x2))\n",
    "        \n",
    "    freq.observe(redraw, names='value')\n",
    "    return freq\n",
    "\n",
    "get_slider()"
   ]
  },
  {
   "cell_type": "code",
   "execution_count": 33,
   "metadata": {},
   "outputs": [
    {
     "data": {
      "application/vnd.jupyter.widget-view+json": {
       "model_id": "325f73f545114936a4b2428dcd05d1a1",
       "version_major": 2,
       "version_minor": 0
      },
      "text/plain": [
       "Canvas(toolbar=Toolbar(toolitems=[('Home', 'Reset original view', 'home', 'home'), ('Back', 'Back to previous …"
      ]
     },
     "metadata": {},
     "output_type": "display_data"
    },
    {
     "data": {
      "application/vnd.jupyter.widget-view+json": {
       "model_id": "3a06448645e9445e8a6f9698283f3a5b",
       "version_major": 2,
       "version_minor": 0
      },
      "text/plain": [
       "HBox(children=(FloatSlider(value=0.1, description='f: ', max=1.0, step=0.02), FloatSlider(value=0.0, descripti…"
      ]
     },
     "metadata": {},
     "output_type": "display_data"
    }
   ],
   "source": [
    "def get_slider():\n",
    "    freq = FloatSlider(\n",
    "        orientation='horizontal', description='f: ',\n",
    "        value=0.1, min=0, max=1, step = 0.02\n",
    "    )\n",
    "    w = lambda q: 2 * np.sqrt(1/1) * abs(np.sin(freq.value * a/2))\n",
    "    \n",
    "    time = FloatSlider(\n",
    "        orientation='horizontal', description='t: ',\n",
    "        value=0.0, min=0, max=100, step = 0.5\n",
    "    )\n",
    "    \n",
    "    fig, ax = figure(2, figsize=(12, 5))\n",
    "    ax.set_xlabel('x')\n",
    "    ax.set_xlabel('f(x)')\n",
    "    lines = [\n",
    "        ax.plot(x - 0.5 * np.sin(np.pi*2*freq.value*x), [0]*(2*N+1), 'ko')[0],\n",
    "    ]\n",
    "    # ax.set_ylim([-1.1, 1.1])\n",
    "    \n",
    "    def redraw(change):\n",
    "        t = time.value\n",
    "        lines[0].set_data(x - 0.5 * np.sin(np.pi*2*freq.value*x - w(freq.value) * t), [0]*(2*N+1))\n",
    "        \n",
    "    freq.observe(redraw, names='value')\n",
    "    time.observe(redraw, names='value')\n",
    "\n",
    "    return HBox([freq, time])\n",
    "\n",
    "get_slider()"
   ]
  },
  {
   "cell_type": "code",
   "execution_count": null,
   "metadata": {},
   "outputs": [],
   "source": []
  }
 ],
 "metadata": {
  "kernelspec": {
   "display_name": "Python 3",
   "language": "python",
   "name": "python3"
  },
  "language_info": {
   "codemirror_mode": {
    "name": "ipython",
    "version": 3
   },
   "file_extension": ".py",
   "mimetype": "text/x-python",
   "name": "python",
   "nbconvert_exporter": "python",
   "pygments_lexer": "ipython3",
   "version": "3.7.9"
  }
 },
 "nbformat": 4,
 "nbformat_minor": 4
}
