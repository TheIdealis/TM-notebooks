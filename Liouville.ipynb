{
 "cells": [
  {
   "cell_type": "code",
   "execution_count": 1,
   "metadata": {},
   "outputs": [],
   "source": [
    "%matplotlib ipympl\n",
    "def figure(name, nrows=1, ncols=1, *args, **kwargs):\n",
    "    plt.close(name)\n",
    "    return plt.subplots(nrows, ncols, num=name, *args, **kwargs)\n",
    "\n",
    "import numpy as np\n",
    "import pylab as plt\n",
    "plt.style.use('default')"
   ]
  },
  {
   "cell_type": "code",
   "execution_count": 2,
   "metadata": {},
   "outputs": [],
   "source": [
    "from ipywidgets import HBox, IntSlider, FloatSlider\n",
    "from scipy.integrate import solve_ivp, odeint"
   ]
  },
  {
   "cell_type": "markdown",
   "metadata": {},
   "source": [
    "## Federschwinger"
   ]
  },
  {
   "cell_type": "markdown",
   "metadata": {},
   "source": [
    "$$ mx'' = -Dx $$"
   ]
  },
  {
   "cell_type": "code",
   "execution_count": 3,
   "metadata": {},
   "outputs": [],
   "source": [
    "def derivative(t, x):\n",
    "    return [x[1], \n",
    "            -D/m*x[0]\n",
    "           ]"
   ]
  },
  {
   "cell_type": "code",
   "execution_count": 4,
   "metadata": {},
   "outputs": [],
   "source": [
    "tspan = np.linspace(0, 10, 500)\n",
    "D = 1\n",
    "m = 1\n",
    "X0 = [2, 0]\n",
    "sol = solve_ivp(derivative, [tspan[0], tspan[-1]], X0, t_eval=tspan)"
   ]
  },
  {
   "cell_type": "code",
   "execution_count": 5,
   "metadata": {},
   "outputs": [
    {
     "data": {
      "application/vnd.jupyter.widget-view+json": {
       "model_id": "c773e4c3ad494675985b26fff698870e",
       "version_major": 2,
       "version_minor": 0
      },
      "text/plain": [
       "Canvas(toolbar=Toolbar(toolitems=[('Home', 'Reset original view', 'home', 'home'), ('Back', 'Back to previous …"
      ]
     },
     "metadata": {},
     "output_type": "display_data"
    },
    {
     "data": {
      "text/plain": [
       "<matplotlib.legend.Legend at 0x7f1695ce0cd0>"
      ]
     },
     "execution_count": 5,
     "metadata": {},
     "output_type": "execute_result"
    }
   ],
   "source": [
    "fig, ax = figure('x vs t', 1, 2, figsize=(10, 4))\n",
    "ax[0].plot(sol.t, sol.y[0], label='x')\n",
    "ax[0].plot(sol.t, sol.y[1], label='v' )\n",
    "ax[0].set_xlabel('t')\n",
    "\n",
    "ax[1].plot(sol.y[0], sol.y[1])\n",
    "ax[1].plot(sol.y[0, 0:1], sol.y[1, 0:1], 'ko')\n",
    "\n",
    "ax[1].set_xlabel('x')\n",
    "ax[1].set_ylabel('v')\n",
    "ax[0].legend()"
   ]
  },
  {
   "cell_type": "markdown",
   "metadata": {},
   "source": [
    "## Mehrere Bahnen"
   ]
  },
  {
   "cell_type": "code",
   "execution_count": 6,
   "metadata": {},
   "outputs": [],
   "source": [
    "colors = plt.rcParams['axes.prop_cycle'].by_key()['color']"
   ]
  },
  {
   "cell_type": "code",
   "execution_count": 7,
   "metadata": {},
   "outputs": [],
   "source": [
    "X0s = [[x0 + 2, v0] for x0 in np.linspace(-0.1, 0.1, 10) for v0 in np.linspace(-0.1, 0.1, 10)]\n",
    "xts = np.zeros((len(X0s), len(tspan)))\n",
    "vts = np.zeros((len(X0s), len(tspan)))\n",
    "for i, X0 in enumerate(X0s):\n",
    "    sol = solve_ivp(derivative, [tspan[0], tspan[-1]], X0, t_eval=tspan)\n",
    "    xts[i] = sol.y[0]\n",
    "    vts[i] = sol.y[1]"
   ]
  },
  {
   "cell_type": "code",
   "execution_count": 8,
   "metadata": {},
   "outputs": [
    {
     "data": {
      "application/vnd.jupyter.widget-view+json": {
       "model_id": "746f4596aa03448aada6162d5312e406",
       "version_major": 2,
       "version_minor": 0
      },
      "text/plain": [
       "Canvas(toolbar=Toolbar(toolitems=[('Home', 'Reset original view', 'home', 'home'), ('Back', 'Back to previous …"
      ]
     },
     "metadata": {},
     "output_type": "display_data"
    }
   ],
   "source": [
    "fig, ax = figure('liouville1', 1, 2, figsize=(10, 4))\n",
    "# ax[0].plot(sol2.t, sol2.y[0], label='x')\n",
    "# ax[0].plot(sol2.t, sol2.y[1], label='v' )\n",
    "# ax[0].set_xlabel('t')\n",
    "\n",
    "for i in range(len(X0s)):\n",
    "    ax[0].plot(tspan, xts[i], color=colors[0], alpha=0.1)\n",
    "    ax[0].plot(tspan, vts[i], color=colors[1], alpha=0.1)\n",
    "    ax[1].plot(xts[i], vts[i], color=colors[0], alpha=0.1)\n",
    "    ax[1].plot(xts[i, 0:1], vts[i, 0:1], 'ko', markersize=1)\n",
    "\n",
    "# ax[1].set_xlabel('x')\n",
    "# ax[1].set_ylabel('v')\n",
    "# ax[0].legend()"
   ]
  },
  {
   "cell_type": "markdown",
   "metadata": {},
   "source": [
    "# Interessantes Beispiel"
   ]
  },
  {
   "cell_type": "markdown",
   "metadata": {},
   "source": [
    "$$ mx'' = -\\frac{dU}{dx}x $$"
   ]
  },
  {
   "cell_type": "code",
   "execution_count": 9,
   "metadata": {},
   "outputs": [
    {
     "data": {
      "application/vnd.jupyter.widget-view+json": {
       "model_id": "cff2e131b400455ca1ebed35854eec77",
       "version_major": 2,
       "version_minor": 0
      },
      "text/plain": [
       "Canvas(toolbar=Toolbar(toolitems=[('Home', 'Reset original view', 'home', 'home'), ('Back', 'Back to previous …"
      ]
     },
     "metadata": {},
     "output_type": "display_data"
    },
    {
     "data": {
      "text/plain": [
       "(-3.1, 3.1)"
      ]
     },
     "execution_count": 9,
     "metadata": {},
     "output_type": "execute_result"
    }
   ],
   "source": [
    "xs = np.linspace(-3, 3, 100)\n",
    "U = lambda x: -2 * np.cos(x) + 0.5 * np.sin(3 * x)\n",
    "dU = lambda x: +2* np.sin(x) + 3 * 0.5 * np.cos(3 * x) \n",
    "\n",
    "fig, ax = figure('pot', 1, 2, figsize=(10, 4))\n",
    "ax[0].plot(xs, U(xs))\n",
    "ax[0].plot([-4, 4], [U(2)]*2, 'k')\n",
    "ax[0].plot([-4, 4], [U(2.1)]*2, 'k--')\n",
    "ax[0].plot([-4, 4], [U(1.9)]*2, 'k--')\n",
    "ax[1].plot(xs, dU(xs))\n",
    "ax[1].plot(xs, np.gradient(U(xs))/0.06, 'k--')\n",
    "ax[0].set_xlim([-3.1, 3.1])"
   ]
  },
  {
   "cell_type": "code",
   "execution_count": 10,
   "metadata": {},
   "outputs": [],
   "source": [
    "def derivative2(t, x):\n",
    "    return [x[1], \n",
    "            -2* np.sin(x[0]) - 3 * 0.5 * np.cos(3 * x[0]) \n",
    "           ]"
   ]
  },
  {
   "cell_type": "code",
   "execution_count": 11,
   "metadata": {},
   "outputs": [],
   "source": [
    "sol2 = solve_ivp(derivative2, [tspan[0], tspan[-1]], X0, t_eval=tspan)"
   ]
  },
  {
   "cell_type": "code",
   "execution_count": 12,
   "metadata": {},
   "outputs": [
    {
     "data": {
      "application/vnd.jupyter.widget-view+json": {
       "model_id": "777c939b0abb4d47886480d320740d6c",
       "version_major": 2,
       "version_minor": 0
      },
      "text/plain": [
       "Canvas(toolbar=Toolbar(toolitems=[('Home', 'Reset original view', 'home', 'home'), ('Back', 'Back to previous …"
      ]
     },
     "metadata": {},
     "output_type": "display_data"
    },
    {
     "data": {
      "text/plain": [
       "<matplotlib.legend.Legend at 0x7f1694190950>"
      ]
     },
     "execution_count": 12,
     "metadata": {},
     "output_type": "execute_result"
    }
   ],
   "source": [
    "fig, ax = figure('x vs t2', 1, 2, figsize=(10, 4))\n",
    "ax[0].plot(sol2.t, sol2.y[0], label='x')\n",
    "ax[0].plot(sol2.t, sol2.y[1], label='v' )\n",
    "ax[0].set_xlabel('t')\n",
    "\n",
    "ax[1].plot(sol2.y[0], sol2.y[1])\n",
    "ax[1].plot(sol2.y[0, 0:1], sol2.y[1, 0:1], 'ko')\n",
    "\n",
    "ax[1].set_xlabel('x')\n",
    "ax[1].set_ylabel('v')\n",
    "ax[0].legend()"
   ]
  },
  {
   "cell_type": "markdown",
   "metadata": {},
   "source": [
    "## Mehrere Bahnen"
   ]
  },
  {
   "cell_type": "code",
   "execution_count": 16,
   "metadata": {},
   "outputs": [],
   "source": [
    "X0s = [[x0 + 2, v0] for x0 in np.linspace(-0.1, 0.1, 10) for v0 in np.linspace(-0.1, 0.1, 10)]\n",
    "xts = np.zeros((len(X0s), len(tspan)))\n",
    "vts = np.zeros((len(X0s), len(tspan)))\n",
    "for i, X0 in enumerate(X0s):\n",
    "    sol = solve_ivp(derivative2, [tspan[0], tspan[-1]], X0, t_eval=tspan)\n",
    "    xts[i] = sol.y[0]\n",
    "    vts[i] = sol.y[1]\n",
    "data = np.concatenate([xts[:, :, np.newaxis], vts[:, :, np.newaxis]], axis=2)"
   ]
  },
  {
   "cell_type": "code",
   "execution_count": 17,
   "metadata": {},
   "outputs": [
    {
     "data": {
      "application/vnd.jupyter.widget-view+json": {
       "model_id": "2711385c86ed49a998f96c184159e18f",
       "version_major": 2,
       "version_minor": 0
      },
      "text/plain": [
       "Canvas(toolbar=Toolbar(toolitems=[('Home', 'Reset original view', 'home', 'home'), ('Back', 'Back to previous …"
      ]
     },
     "metadata": {},
     "output_type": "display_data"
    },
    {
     "data": {
      "text/plain": [
       "<matplotlib.collections.PathCollection at 0x7f168dc14c90>"
      ]
     },
     "execution_count": 17,
     "metadata": {},
     "output_type": "execute_result"
    }
   ],
   "source": [
    "fig, ax = figure('liouville2', 1, 2, figsize=(10, 4))\n",
    "# ax[0].plot(sol2.t, sol2.y[0], label='x')\n",
    "# ax[0].plot(sol2.t, sol2.y[1], label='v' )\n",
    "# ax[0].set_xlabel('t')\n",
    "\n",
    "for i in range(len(X0s)):\n",
    "    ax[0].plot(tspan, xts[i], color=colors[0], alpha=0.04)\n",
    "    ax[0].plot(tspan, vts[i], color=colors[1], alpha=0.04)\n",
    "    ax[1].plot(xts[i], vts[i], color=colors[0], alpha=0.04)\n",
    "ax[1].scatter(xts[:, 0:1], vts[:, 0:1], color='k', s=5, zorder=100)\n",
    "\n",
    "# ax[1].set_xlabel('x')\n",
    "# ax[1].set_ylabel('v')\n",
    "# ax[0].legend()"
   ]
  },
  {
   "cell_type": "code",
   "execution_count": 18,
   "metadata": {},
   "outputs": [
    {
     "data": {
      "application/vnd.jupyter.widget-view+json": {
       "model_id": "7512527417064c5c8ab542ac2a05fa5a",
       "version_major": 2,
       "version_minor": 0
      },
      "text/plain": [
       "Canvas(toolbar=Toolbar(toolitems=[('Home', 'Reset original view', 'home', 'home'), ('Back', 'Back to previous …"
      ]
     },
     "metadata": {},
     "output_type": "display_data"
    },
    {
     "data": {
      "application/vnd.jupyter.widget-view+json": {
       "model_id": "45880db7b5544c95806f4b36ffdbc9b0",
       "version_major": 2,
       "version_minor": 0
      },
      "text/plain": [
       "IntSlider(value=0, description='t: ', max=499)"
      ]
     },
     "metadata": {},
     "output_type": "display_data"
    }
   ],
   "source": [
    "def get_slider():\n",
    "    slider_t = IntSlider(\n",
    "        orientation='horizontal', description='t: ',\n",
    "        value=0, min=0, max=len(tspan)-1\n",
    "    )\n",
    "\n",
    "    fig, ax = figure('s1', 1, 2, figsize=(10, 4))\n",
    "    \n",
    "    lines = []\n",
    "    for i in range(len(X0s)):\n",
    "        ax[0].plot(xts[i], vts[i], color=colors[0], alpha=0.04)\n",
    "#         lines.append(ax.plot(xts[i, 0:1], vts[i, 0:1], 'ko', markersize=1)[0])\n",
    "    lines = [ax[0].scatter(xts[:, 0], vts[:, 0], color='k', s=4, zorder=100)]    \n",
    "\n",
    "    ax[1].plot(xs, U(xs))\n",
    "    ax[1].plot([-4, 4], [U(2)]*2, 'k', lw=0.5)\n",
    "    ax[1].plot([-4, 4], [U(2.1)]*2, 'k--', lw=0.5)\n",
    "    ax[1].plot([-4, 4], [U(1.9)]*2, 'k--', lw=0.5)\n",
    "    ax[1].set_xlim([-3.1, 3.1])\n",
    "    lines.append(ax[1].scatter(xts[:, 0], U(xts[:, 0]), color=colors[1], \n",
    "                               zorder=100, s=7, edgecolors='k', linewidths=0.2))\n",
    "    data2 = np.concatenate([xts[:, :, np.newaxis], U(xts[:, :, np.newaxis])], axis=2)\n",
    "    \n",
    "    ax[0].set_xlabel('x')\n",
    "    ax[0].set_ylabel('v')\n",
    "    ax[1].set_xlabel('x')\n",
    "    ax[1].set_ylabel('U(x)')\n",
    "    \n",
    "    def redraw(change):\n",
    "        t = change.new\n",
    "        lines[0].set_offsets(data[:, t, :])\n",
    "        lines[1].set_offsets(data2[:, t, :])\n",
    "        fig.canvas.draw()\n",
    "        fig.canvas.flush_events()\n",
    "\n",
    "    slider_t.observe(redraw, names='value')\n",
    "    return slider_t\n",
    "\n",
    "get_slider()"
   ]
  },
  {
   "cell_type": "code",
   "execution_count": null,
   "metadata": {},
   "outputs": [],
   "source": []
  }
 ],
 "metadata": {
  "kernelspec": {
   "display_name": "Python 3",
   "language": "python",
   "name": "python3"
  },
  "language_info": {
   "codemirror_mode": {
    "name": "ipython",
    "version": 3
   },
   "file_extension": ".py",
   "mimetype": "text/x-python",
   "name": "python",
   "nbconvert_exporter": "python",
   "pygments_lexer": "ipython3",
   "version": "3.7.8"
  }
 },
 "nbformat": 4,
 "nbformat_minor": 4
}
