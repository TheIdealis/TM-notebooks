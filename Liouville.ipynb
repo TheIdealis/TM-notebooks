{
 "cells": [
  {
   "cell_type": "code",
   "execution_count": 19,
   "metadata": {},
   "outputs": [],
   "source": [
    "%matplotlib ipympl\n",
    "def figure(name, nrows=1, ncols=1, *args, **kwargs):\n",
    "    plt.close(name)\n",
    "    return plt.subplots(nrows, ncols, num=name, *args, **kwargs)\n",
    "\n",
    "import numpy as np\n",
    "import pylab as plt\n",
    "plt.style.use('default')"
   ]
  },
  {
   "cell_type": "code",
   "execution_count": 20,
   "metadata": {},
   "outputs": [],
   "source": [
    "from ipywidgets import HBox, IntSlider, FloatSlider\n",
    "from scipy.integrate import solve_ivp, odeint"
   ]
  },
  {
   "cell_type": "code",
   "execution_count": 21,
   "metadata": {},
   "outputs": [],
   "source": [
    "from antipasti.mpl import get_color_cycle"
   ]
  },
  {
   "cell_type": "markdown",
   "metadata": {},
   "source": [
    "## Federschwinger"
   ]
  },
  {
   "cell_type": "markdown",
   "metadata": {},
   "source": [
    "$$ mx'' = -Dx $$"
   ]
  },
  {
   "cell_type": "code",
   "execution_count": 22,
   "metadata": {},
   "outputs": [],
   "source": [
    "def derivative(t, x):\n",
    "    return [x[1], \n",
    "            -D/m*x[0]\n",
    "           ]"
   ]
  },
  {
   "cell_type": "code",
   "execution_count": 23,
   "metadata": {},
   "outputs": [],
   "source": [
    "tspan = np.linspace(0, 10, 500)\n",
    "D = 1\n",
    "m = 1\n",
    "X0 = [2, 0]\n",
    "sol = solve_ivp(derivative, [tspan[0], tspan[-1]], X0, t_eval=tspan)"
   ]
  },
  {
   "cell_type": "code",
   "execution_count": 24,
   "metadata": {},
   "outputs": [
    {
     "data": {
      "application/vnd.jupyter.widget-view+json": {
       "model_id": "081869d6c9dc4304b58f1b38c2926b62",
       "version_major": 2,
       "version_minor": 0
      },
      "text/plain": [
       "Canvas(toolbar=Toolbar(toolitems=[('Home', 'Reset original view', 'home', 'home'), ('Back', 'Back to previous …"
      ]
     },
     "metadata": {},
     "output_type": "display_data"
    },
    {
     "data": {
      "text/plain": [
       "<matplotlib.legend.Legend at 0x7fa2f8f91e10>"
      ]
     },
     "execution_count": 24,
     "metadata": {},
     "output_type": "execute_result"
    }
   ],
   "source": [
    "fig, ax = figure('x vs t', 1, 2, figsize=(10, 4))\n",
    "ax[0].plot(sol.t, sol.y[0], label='x')\n",
    "ax[0].plot(sol.t, sol.y[1], label='v' )\n",
    "ax[0].set_xlabel('t')\n",
    "\n",
    "ax[1].plot(sol.y[0], sol.y[1])\n",
    "ax[1].plot(sol.y[0, 0:1], sol.y[1, 0:1], 'ko')\n",
    "\n",
    "ax[1].set_xlabel('x')\n",
    "ax[1].set_ylabel('v')\n",
    "ax[0].legend()"
   ]
  },
  {
   "cell_type": "markdown",
   "metadata": {},
   "source": [
    "## Mehrere Bahnen"
   ]
  },
  {
   "cell_type": "code",
   "execution_count": 25,
   "metadata": {},
   "outputs": [],
   "source": [
    "colors = get_color_cycle()"
   ]
  },
  {
   "cell_type": "code",
   "execution_count": 26,
   "metadata": {},
   "outputs": [],
   "source": [
    "X0s = [[x0 + 2, v0] for x0 in np.linspace(-0.1, 0.1, 10) for v0 in np.linspace(-0.1, 0.1, 10)]\n",
    "xts = np.zeros((len(X0s), len(tspan)))\n",
    "vts = np.zeros((len(X0s), len(tspan)))\n",
    "for i, X0 in enumerate(X0s):\n",
    "    sol = solve_ivp(derivative, [tspan[0], tspan[-1]], X0, t_eval=tspan)\n",
    "    xts[i] = sol.y[0]\n",
    "    vts[i] = sol.y[1]"
   ]
  },
  {
   "cell_type": "code",
   "execution_count": 27,
   "metadata": {},
   "outputs": [
    {
     "data": {
      "application/vnd.jupyter.widget-view+json": {
       "model_id": "0681d80c6e964335929e3dce1e4b5d38",
       "version_major": 2,
       "version_minor": 0
      },
      "text/plain": [
       "Canvas(toolbar=Toolbar(toolitems=[('Home', 'Reset original view', 'home', 'home'), ('Back', 'Back to previous …"
      ]
     },
     "metadata": {},
     "output_type": "display_data"
    }
   ],
   "source": [
    "fig, ax = figure('liouville1', 1, 2, figsize=(10, 4))\n",
    "# ax[0].plot(sol2.t, sol2.y[0], label='x')\n",
    "# ax[0].plot(sol2.t, sol2.y[1], label='v' )\n",
    "# ax[0].set_xlabel('t')\n",
    "\n",
    "for i in range(len(X0s)):\n",
    "    ax[0].plot(tspan, xts[i], color=colors[0], alpha=0.1)\n",
    "    ax[0].plot(tspan, vts[i], color=colors[1], alpha=0.1)\n",
    "    ax[1].plot(xts[i], vts[i], color=colors[0], alpha=0.1)\n",
    "    ax[1].plot(xts[i, 0:1], vts[i, 0:1], 'ko', markersize=1)\n",
    "\n",
    "# ax[1].set_xlabel('x')\n",
    "# ax[1].set_ylabel('v')\n",
    "# ax[0].legend()"
   ]
  },
  {
   "cell_type": "markdown",
   "metadata": {},
   "source": [
    "# Interessantes Beispiel"
   ]
  },
  {
   "cell_type": "markdown",
   "metadata": {},
   "source": [
    "$$ mx'' = -\\frac{dU}{dx}x $$"
   ]
  },
  {
   "cell_type": "code",
   "execution_count": 28,
   "metadata": {},
   "outputs": [
    {
     "data": {
      "application/vnd.jupyter.widget-view+json": {
       "model_id": "f119c55530b44ed780eaeeedcf677936",
       "version_major": 2,
       "version_minor": 0
      },
      "text/plain": [
       "Canvas(toolbar=Toolbar(toolitems=[('Home', 'Reset original view', 'home', 'home'), ('Back', 'Back to previous …"
      ]
     },
     "metadata": {},
     "output_type": "display_data"
    },
    {
     "data": {
      "text/plain": [
       "Text(0, 0.5, 'dU(x)/dx')"
      ]
     },
     "execution_count": 28,
     "metadata": {},
     "output_type": "execute_result"
    }
   ],
   "source": [
    "xs = np.linspace(-3, 3, 100)\n",
    "U = lambda x: -2 * np.cos(x) + 0.5 * np.sin(3 * x)\n",
    "dU = lambda x: +2* np.sin(x) + 3 * 0.5 * np.cos(3 * x) \n",
    "\n",
    "fig, ax = figure('pot', 1, 2, figsize=(10, 4))\n",
    "ax[0].plot(xs, U(xs))\n",
    "ax[0].plot([-4, 4], [U(2)]*2, 'k')\n",
    "ax[0].plot([-4, 4], [U(2.1)]*2, 'k--')\n",
    "ax[0].plot([-4, 4], [U(1.9)]*2, 'k--')\n",
    "ax[1].plot(xs, dU(xs))\n",
    "ax[1].plot(xs, np.gradient(U(xs))/0.06, 'k--')\n",
    "ax[0].set_xlim([-3.1, 3.1])\n",
    "ax[0].set_xlabel('x')\n",
    "ax[0].set_ylabel('U(x)')\n",
    "ax[1].set_xlabel('x')\n",
    "ax[1].set_ylabel('dU(x)/dx')"
   ]
  },
  {
   "cell_type": "code",
   "execution_count": 29,
   "metadata": {},
   "outputs": [],
   "source": [
    "def derivative2(t, x):\n",
    "    return [x[1], \n",
    "            -2* np.sin(x[0]) - 3 * 0.5 * np.cos(3 * x[0]) \n",
    "           ]"
   ]
  },
  {
   "cell_type": "code",
   "execution_count": 30,
   "metadata": {},
   "outputs": [],
   "source": [
    "sol2 = solve_ivp(derivative2, [tspan[0], tspan[-1]], X0, t_eval=tspan)"
   ]
  },
  {
   "cell_type": "code",
   "execution_count": 31,
   "metadata": {},
   "outputs": [
    {
     "data": {
      "application/vnd.jupyter.widget-view+json": {
       "model_id": "3b1599254cd74592b87d39fd19f2556b",
       "version_major": 2,
       "version_minor": 0
      },
      "text/plain": [
       "Canvas(toolbar=Toolbar(toolitems=[('Home', 'Reset original view', 'home', 'home'), ('Back', 'Back to previous …"
      ]
     },
     "metadata": {},
     "output_type": "display_data"
    },
    {
     "data": {
      "text/plain": [
       "<matplotlib.legend.Legend at 0x7fa2fa4501d0>"
      ]
     },
     "execution_count": 31,
     "metadata": {},
     "output_type": "execute_result"
    }
   ],
   "source": [
    "fig, ax = figure('x vs t2', 1, 2, figsize=(10, 4))\n",
    "ax[0].plot(sol2.t, sol2.y[0], label='x')\n",
    "ax[0].plot(sol2.t, sol2.y[1], label='v' )\n",
    "ax[0].set_xlabel('t')\n",
    "\n",
    "ax[1].plot(sol2.y[0], sol2.y[1])\n",
    "ax[1].plot(sol2.y[0, 0:1], sol2.y[1, 0:1], 'ko')\n",
    "\n",
    "ax[1].set_xlabel('x')\n",
    "ax[1].set_ylabel('v')\n",
    "ax[0].legend()"
   ]
  },
  {
   "cell_type": "markdown",
   "metadata": {},
   "source": [
    "## Mehrere Bahnen"
   ]
  },
  {
   "cell_type": "code",
   "execution_count": 32,
   "metadata": {},
   "outputs": [],
   "source": [
    "X0s = [[x0 + 2, v0] for x0 in np.linspace(-0.1, 0.1, 20) for v0 in np.linspace(-0.1, 0.1, 20)]\n",
    "xts = np.zeros((len(X0s), len(tspan)))\n",
    "vts = np.zeros((len(X0s), len(tspan)))\n",
    "for i, X0 in enumerate(X0s):\n",
    "    sol = solve_ivp(derivative2, [tspan[0], tspan[-1]], X0, t_eval=tspan)\n",
    "    xts[i] = sol.y[0]\n",
    "    vts[i] = sol.y[1]\n",
    "data = np.concatenate([xts[:, :, np.newaxis], vts[:, :, np.newaxis]], axis=2)"
   ]
  },
  {
   "cell_type": "code",
   "execution_count": 33,
   "metadata": {},
   "outputs": [
    {
     "data": {
      "application/vnd.jupyter.widget-view+json": {
       "model_id": "81c4aa1afde549f8a5b489d94aea8022",
       "version_major": 2,
       "version_minor": 0
      },
      "text/plain": [
       "Canvas(toolbar=Toolbar(toolitems=[('Home', 'Reset original view', 'home', 'home'), ('Back', 'Back to previous …"
      ]
     },
     "metadata": {},
     "output_type": "display_data"
    },
    {
     "data": {
      "text/plain": [
       "<matplotlib.collections.PathCollection at 0x7fa2fd374fd0>"
      ]
     },
     "execution_count": 33,
     "metadata": {},
     "output_type": "execute_result"
    }
   ],
   "source": [
    "fig, ax = figure('liouville2', 1, 2, figsize=(10, 4))\n",
    "# ax[0].plot(sol2.t, sol2.y[0], label='x')\n",
    "# ax[0].plot(sol2.t, sol2.y[1], label='v' )\n",
    "# ax[0].set_xlabel('t')\n",
    "\n",
    "for i in range(len(X0s)):\n",
    "    ax[0].plot(tspan, xts[i], color=colors[0], alpha=0.01)\n",
    "    ax[0].plot(tspan, vts[i], color=colors[1], alpha=0.01)\n",
    "    ax[1].plot(xts[i], vts[i], color=colors[0], alpha=0.01)\n",
    "ax[1].scatter(xts[:, 0:1], vts[:, 0:1], color='k', s=5, zorder=100)\n",
    "\n",
    "# ax[1].set_xlabel('x')\n",
    "# ax[1].set_ylabel('v')\n",
    "# ax[0].legend()"
   ]
  },
  {
   "cell_type": "code",
   "execution_count": 34,
   "metadata": {},
   "outputs": [
    {
     "data": {
      "application/vnd.jupyter.widget-view+json": {
       "model_id": "42cdb18163ad46688e846b68231d42dd",
       "version_major": 2,
       "version_minor": 0
      },
      "text/plain": [
       "Canvas(toolbar=Toolbar(toolitems=[('Home', 'Reset original view', 'home', 'home'), ('Back', 'Back to previous …"
      ]
     },
     "metadata": {},
     "output_type": "display_data"
    },
    {
     "data": {
      "application/vnd.jupyter.widget-view+json": {
       "model_id": "5d732cc4fa85426fa010f97772fde45f",
       "version_major": 2,
       "version_minor": 0
      },
      "text/plain": [
       "IntSlider(value=0, description='t: ', max=499)"
      ]
     },
     "metadata": {},
     "output_type": "display_data"
    }
   ],
   "source": [
    "def get_slider():\n",
    "    slider_t = IntSlider(\n",
    "        orientation='horizontal', description='t: ',\n",
    "        value=0, min=0, max=len(tspan)-1\n",
    "    )\n",
    "\n",
    "    fig, ax = figure('s1', 1, 2, figsize=(10, 4))\n",
    "    \n",
    "    lines = []\n",
    "    for i in range(len(X0s)):\n",
    "        ax[0].plot(xts[i], vts[i], color=colors[0], alpha=0.01)\n",
    "#         lines.append(ax.plot(xts[i, 0:1], vts[i, 0:1], 'ko', markersize=1)[0])\n",
    "    lines = [ax[0].scatter(xts[:, 0], vts[:, 0], color='k', s=4, zorder=100)]    \n",
    "\n",
    "    ax[1].plot(xs, U(xs))\n",
    "    ax[1].plot([-4, 4], [U(2)]*2, 'k', lw=0.5)\n",
    "    ax[1].plot([-4, 4], [U(2.1)]*2, 'k--', lw=0.5)\n",
    "    ax[1].plot([-4, 4], [U(1.9)]*2, 'k--', lw=0.5)\n",
    "    ax[1].set_xlim([-3.1, 3.1])\n",
    "    lines.append(ax[1].scatter(xts[:, 0], U(xts[:, 0]), color=colors[1], \n",
    "                               zorder=100, s=7, edgecolors='k', linewidths=0.2))\n",
    "    data2 = np.concatenate([xts[:, :, np.newaxis], U(xts[:, :, np.newaxis])], axis=2)\n",
    "    \n",
    "    ax[0].set_xlabel('x')\n",
    "    ax[0].set_ylabel('v')\n",
    "    ax[1].set_xlabel('x')\n",
    "    ax[1].set_ylabel('U(x)')\n",
    "    \n",
    "    def redraw(change):\n",
    "        t = change.new\n",
    "        lines[0].set_offsets(data[:, t, :])\n",
    "        lines[1].set_offsets(data2[:, t, :])\n",
    "        fig.canvas.draw()\n",
    "        fig.canvas.flush_events()\n",
    "\n",
    "    slider_t.observe(redraw, names='value')\n",
    "    return slider_t\n",
    "\n",
    "get_slider()"
   ]
  },
  {
   "cell_type": "code",
   "execution_count": null,
   "metadata": {},
   "outputs": [],
   "source": []
  }
 ],
 "metadata": {
  "kernelspec": {
   "display_name": "Python 3",
   "language": "python",
   "name": "python3"
  },
  "language_info": {
   "codemirror_mode": {
    "name": "ipython",
    "version": 3
   },
   "file_extension": ".py",
   "mimetype": "text/x-python",
   "name": "python",
   "nbconvert_exporter": "python",
   "pygments_lexer": "ipython3",
   "version": "3.7.9"
  }
 },
 "nbformat": 4,
 "nbformat_minor": 4
}
