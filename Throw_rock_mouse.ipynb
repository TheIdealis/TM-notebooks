{
 "cells": [
  {
   "cell_type": "code",
   "execution_count": 1,
   "metadata": {},
   "outputs": [],
   "source": [
    "%matplotlib widget\n",
    "import numpy as np\n",
    "import pylab as plt\n",
    "def figure(name, nrows=1, ncols=1, *args, **kwargs):\n",
    "    plt.close(name)\n",
    "    return plt.subplots(nrows, ncols, num=name, *args, **kwargs)\n",
    "plt.style.use('default')\n",
    "# from antipasti.mpl import ensure_print"
   ]
  },
  {
   "cell_type": "code",
   "execution_count": 2,
   "metadata": {},
   "outputs": [],
   "source": [
    "from ipywidgets import HBox, IntSlider, FloatSlider\n",
    "from scipy.integrate import solve_ivp, odeint"
   ]
  },
  {
   "cell_type": "markdown",
   "metadata": {},
   "source": [
    "## Define phase space drawer"
   ]
  },
  {
   "cell_type": "code",
   "execution_count": 3,
   "metadata": {},
   "outputs": [],
   "source": [
    "class PhaseSpace:\n",
    "    def __init__(self, fig, ax):\n",
    "        # stash the Line2D artist\n",
    "        self.ln = ax[0].plot([], [], 'kx')[0]\n",
    "        self.ax = ax\n",
    "        self.fig = fig\n",
    "#         self.ax[0].annotate('Left-click to add points', (.5, .9), \n",
    "#                       ha='center', xycoords='axes fraction')\n",
    "        # register our method to be called per-click\n",
    "        self.button_cid = fig.canvas.mpl_connect('button_press_event',\n",
    "                                                       self.on_button)\n",
    "\n",
    "        self.real_lines = []\n",
    "        self.phase_lines = []\n",
    "        \n",
    "        # configure axes\n",
    "        self.ax[0].set_xlim([-2.05, 2.05])\n",
    "        self.ax[0].set_ylim([-2.05, 2.05])\n",
    "        self.ax[0].plot([-2, 2], [0, 0], 'k-')\n",
    "        self.ax[0].plot([0, 0], [-2, 2], 'k-')\n",
    "        self.ax[0].set_xlabel('$v_x$')\n",
    "        self.ax[0].set_ylabel('$v_y$')\n",
    "        self.ax[1].set_xlabel('$x$')\n",
    "        self.ax[1].set_ylabel('$y$')\n",
    "        \n",
    "        # configure slider\n",
    "        self.K = 0\n",
    "        self.m = 1\n",
    "        self.g = 9.81\n",
    "        self.tspan = np.linspace(0, 10, 500)\n",
    "        self.slider_k = FloatSlider(\n",
    "            orientation='horizontal', description='k: ',\n",
    "            value=0, min=0, max=10, step = 0.1\n",
    "        )\n",
    "\n",
    "        self.slider_k.observe(self.update_k, names='value')\n",
    "        self.max_y = 0\n",
    "        \n",
    "    def update_k(self, change):\n",
    "        self.K = change.new\n",
    "        \n",
    "    def on_button(self, event):\n",
    "#         print(f'button: {event.button!r} @ ({event.xdata}, {event.ydata}) + key: {event.key}')\n",
    "         # only consider events from the lines Axes or if not the left mouse button bail! \n",
    "        if event.inaxes is not self.ln.axes or event.button != 1:\n",
    "            return\n",
    "   \n",
    "        if event.key == 'shift':\n",
    "            for line in self.real_lines:\n",
    "                line.remove()\n",
    "            for line in self.phase_lines:\n",
    "                line.remove()\n",
    "            self.real_lines = []\n",
    "            self.phase_lines = []\n",
    "            self.ln.set_data([], [])\n",
    "            \n",
    "        else:\n",
    "            Y0 = [0, 1, event.xdata, event.ydata]\n",
    "            def derivative(t, y):\n",
    "                return [y[2], y[3],\n",
    "                        -self.K/self.m*y[2],\n",
    "                        -self.K/self.m*y[3] - self.g\n",
    "                       ]\n",
    "            def hit_ground(t, y): return y[1] + 1\n",
    "            hit_ground.terminal = True\n",
    "            sol = solve_ivp(derivative, [self.tspan[0], self.tspan[-1]], Y0, t_eval=self.tspan,\n",
    "                           events=hit_ground\n",
    "                           )\n",
    "\n",
    "            # append the new point to the current Line2D data\n",
    "            xdata = list(self.ln.get_xdata()) + [event.xdata]\n",
    "            ydata = list(self.ln.get_ydata()) + [event.ydata]\n",
    "\n",
    "            # and update the data on the Line2D artist\n",
    "            self.ln.set_data(xdata, ydata)\n",
    "            self.real_lines.append(self.ax[1].plot(sol.y[0], sol.y[1])[0])\n",
    "            self.phase_lines.append(self.ax[0].plot(sol.y[2], sol.y[3])[0])\n",
    "            \n",
    "            # y lims\n",
    "            self.max_y = max(self.max_y, 1.05 * np.max(self.real_lines[-1].get_ydata()))\n",
    "            self.ax[1].set_ylim([0, self.max_y])\n",
    "            \n",
    "        # ask the UI to re-draw the next time it can\n",
    "        self.ln.figure.canvas.draw_idle()\n",
    "        \n",
    "    @property\n",
    "    def curve(self):\n",
    "        # get the current (x, y) for the line\n",
    "        return {'x': self.ln.get_xdata(), 'y': self.ln.get_ydata()}"
   ]
  },
  {
   "cell_type": "code",
   "execution_count": 4,
   "metadata": {},
   "outputs": [
    {
     "data": {
      "application/vnd.jupyter.widget-view+json": {
       "model_id": "76cddbb9f8ac440f8bb20ed27282d77e",
       "version_major": 2,
       "version_minor": 0
      },
      "text/plain": [
       "Canvas(toolbar=Toolbar(toolitems=[('Home', 'Reset original view', 'home', 'home'), ('Back', 'Back to previous …"
      ]
     },
     "metadata": {},
     "output_type": "display_data"
    },
    {
     "data": {
      "application/vnd.jupyter.widget-view+json": {
       "model_id": "139a8d11e38f41a399cff319fc054cb0",
       "version_major": 2,
       "version_minor": 0
      },
      "text/plain": [
       "FloatSlider(value=0.0, description='k: ', max=10.0)"
      ]
     },
     "metadata": {},
     "output_type": "display_data"
    }
   ],
   "source": [
    "fig, ax = figure(1, 1, 2, figsize=(10, 5))\n",
    "\n",
    "PS = PhaseSpace(fig, ax)\n",
    "PS.slider_k"
   ]
  },
  {
   "cell_type": "code",
   "execution_count": null,
   "metadata": {},
   "outputs": [],
   "source": []
  }
 ],
 "metadata": {
  "kernelspec": {
   "display_name": "Python 3",
   "language": "python",
   "name": "python3"
  },
  "language_info": {
   "codemirror_mode": {
    "name": "ipython",
    "version": 3
   },
   "file_extension": ".py",
   "mimetype": "text/x-python",
   "name": "python",
   "nbconvert_exporter": "python",
   "pygments_lexer": "ipython3",
   "version": "3.7.9"
  }
 },
 "nbformat": 4,
 "nbformat_minor": 4
}
