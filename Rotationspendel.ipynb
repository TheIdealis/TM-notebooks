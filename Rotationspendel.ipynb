{
 "cells": [
  {
   "cell_type": "code",
   "execution_count": 1,
   "metadata": {},
   "outputs": [],
   "source": [
    "%matplotlib ipympl\n",
    "def figure(name, nrows=1, ncols=1, *args, **kwargs):\n",
    "    plt.close(name)\n",
    "    return plt.subplots(nrows, ncols, num=name, *args, **kwargs)\n",
    "\n",
    "import numpy as np\n",
    "import pylab as plt\n",
    "plt.style.use('default')"
   ]
  },
  {
   "cell_type": "code",
   "execution_count": 2,
   "metadata": {},
   "outputs": [],
   "source": [
    "from scipy.integrate import solve_ivp\n",
    "from ipywidgets import HBox, IntSlider, FloatSlider\n",
    "from numpy import sin, cos"
   ]
  },
  {
   "cell_type": "code",
   "execution_count": 3,
   "metadata": {},
   "outputs": [],
   "source": [
    "deg2rad = lambda deg: np.pi * deg / 180\n",
    "\n",
    "def energy(y):\n",
    "    T = 2*M*l**2*y[1]**2*sin(y[0])**2 + m*l**2*y[1]**2 + m*l**2*w**2*sin(y[0])**2\n",
    "    U = -2*(m+M)*g*l*cos(y[0]) \n",
    "    return np.array((U, T))"
   ]
  },
  {
   "cell_type": "code",
   "execution_count": 4,
   "metadata": {},
   "outputs": [],
   "source": [
    "# phi, dot(phi)\n",
    "def derivative(t, y):\n",
    "    dy = np.zeros(2)\n",
    "    dy[0] = y[1]\n",
    "    dy[1] = ((m*w**2 - 2*M*y[1]**2)*sin(y[0])*cos(y[0]) - g/l*(m+M)*sin(y[0]))/(2*M*sin(y[0])**2 + m)\n",
    "    dy[1] -= k * y[1]\n",
    "    return dy"
   ]
  },
  {
   "cell_type": "code",
   "execution_count": 5,
   "metadata": {},
   "outputs": [
    {
     "name": "stdout",
     "output_type": "stream",
     "text": [
      "w0 = 5.42\n"
     ]
    }
   ],
   "source": [
    "times = np.linspace(0, 10, 1000)\n",
    "m = 1\n",
    "M = 2\n",
    "g = 9.81\n",
    "l = 1\n",
    "# w = 1 # 5.424942396007538\n",
    "w = 20\n",
    "\n",
    "Y0 = [deg2rad(.1), 0.]\n",
    "\n",
    "\n",
    "# Y0 = [np.pi*0.95, 0.]\n",
    "print(f'w0 = {np.sqrt(g/l * (m+M)/m):.2f}')"
   ]
  },
  {
   "cell_type": "markdown",
   "metadata": {},
   "source": [
    "**First case:** $\\cos\\phi_0 = \\frac{g}{l\\omega^2}\\frac{m+M}{m}$"
   ]
  },
  {
   "cell_type": "code",
   "execution_count": 6,
   "metadata": {},
   "outputs": [
    {
     "data": {
      "application/vnd.jupyter.widget-view+json": {
       "model_id": "0c287119521b458d8b4bcf2a52afb89e",
       "version_major": 2,
       "version_minor": 0
      },
      "text/plain": [
       "Canvas(toolbar=Toolbar(toolitems=[('Home', 'Reset original view', 'home', 'home'), ('Back', 'Back to previous …"
      ]
     },
     "metadata": {},
     "output_type": "display_data"
    },
    {
     "data": {
      "text/plain": [
       "<matplotlib.legend.Legend at 0x7f6ac9699890>"
      ]
     },
     "execution_count": 6,
     "metadata": {},
     "output_type": "execute_result"
    }
   ],
   "source": [
    "k = 0\n",
    "sol = solve_ivp(derivative, [times[0], times[-1]], Y0, t_eval=times, \n",
    "                method='DOP853',\n",
    "#                 method='LSODA',\n",
    "#                 method='RK23', \n",
    "#                 rtol=1e-8,\n",
    "#                 atol=1e-10\n",
    "               )\n",
    "k = 1\n",
    "sol2 = solve_ivp(derivative, [times[0], times[-1]], Y0, t_eval=times, method='DOP853', rtol=1e-8, atol=1e-10)\n",
    "\n",
    "\n",
    "fig, ax = figure('example', 1, 2, figsize=(12, 4))\n",
    "\n",
    "ax[0].plot(sol.t, sol.y[0]/np.pi, label='phi')\n",
    "ax[0].plot(sol.t, sol2.y[0]/np.pi, 'k--', label='phi0')\n",
    "\n",
    "# ax[0].plot(sol.t, sol.y[1], label='p')\n",
    "steady = g/(l*w**2) * (m+M)/m\n",
    "if steady <= 1:\n",
    "    ax[0].plot(sol.t, [np.arccos(steady)/np.pi]*len(times), 'k-')\n",
    "ax[1].plot(sol.t, energy(sol.y)[0], label='Epot')\n",
    "ax[1].plot(sol.t, energy(sol.y)[1], label='Ekin')\n",
    "\n",
    "ax[0].legend()\n",
    "ax[1].legend()"
   ]
  },
  {
   "cell_type": "markdown",
   "metadata": {},
   "source": [
    "**Second case:** $\\cos\\phi_0 = 0$"
   ]
  },
  {
   "cell_type": "code",
   "execution_count": 7,
   "metadata": {},
   "outputs": [
    {
     "data": {
      "application/vnd.jupyter.widget-view+json": {
       "model_id": "c36eb9e3d4604a79a5788b349302d2dd",
       "version_major": 2,
       "version_minor": 0
      },
      "text/plain": [
       "Canvas(toolbar=Toolbar(toolitems=[('Home', 'Reset original view', 'home', 'home'), ('Back', 'Back to previous …"
      ]
     },
     "metadata": {},
     "output_type": "display_data"
    },
    {
     "data": {
      "text/plain": [
       "<matplotlib.legend.Legend at 0x7f6ac96b62d0>"
      ]
     },
     "execution_count": 7,
     "metadata": {},
     "output_type": "execute_result"
    }
   ],
   "source": [
    "w = 5.\n",
    "k = 0\n",
    "times = np.linspace(0, 5, 100)\n",
    "sol3 = solve_ivp(derivative, [times[0], times[-1]], Y0, t_eval=times, method='DOP853', rtol=1e-8, atol=1e-10)\n",
    "w = 10\n",
    "times = np.linspace(0, 0.75, 100)\n",
    "sol4 = solve_ivp(derivative, [times[0], times[-1]], Y0, t_eval=times, method='DOP853', rtol=1e-8, atol=1e-10)\n",
    "\n",
    "fig, ax = figure('small', 1, 2, figsize=(12, 4))\n",
    "\n",
    "ax[0].plot(sol3.t, sol3.y[0]/np.pi, label='phi')\n",
    "w = 5.\n",
    "w2 = np.sqrt(g/l * (m+M)/m - w**2)\n",
    "ax[0].plot(sol3.t, Y0[0]/np.pi * np.cos(w2*sol3.t), 'k--', label='analytic')\n",
    "\n",
    "ax[1].plot(sol4.t, sol4.y[0]/np.pi, label='phi')\n",
    "w = 10\n",
    "w2 = np.sqrt(w**2 - g/l * (m+M)/m)\n",
    "ax[1].plot(sol4.t, Y0[0]/np.pi * np.cosh(w2*sol4.t), 'k--')\n",
    "\n",
    "\n",
    "ax[0].legend()"
   ]
  },
  {
   "cell_type": "markdown",
   "metadata": {},
   "source": [
    "**Oscillation around $\\theta_0$**"
   ]
  },
  {
   "cell_type": "code",
   "execution_count": 8,
   "metadata": {},
   "outputs": [
    {
     "data": {
      "application/vnd.jupyter.widget-view+json": {
       "model_id": "c21dc441286242f6b112c7d1018ae74d",
       "version_major": 2,
       "version_minor": 0
      },
      "text/plain": [
       "Canvas(toolbar=Toolbar(toolitems=[('Home', 'Reset original view', 'home', 'home'), ('Back', 'Back to previous …"
      ]
     },
     "metadata": {},
     "output_type": "display_data"
    },
    {
     "data": {
      "text/plain": [
       "[<matplotlib.lines.Line2D at 0x7f6ac95472d0>]"
      ]
     },
     "execution_count": 8,
     "metadata": {},
     "output_type": "execute_result"
    }
   ],
   "source": [
    "w = 10\n",
    "k = 0\n",
    "times = np.linspace(0, 4, 100)\n",
    "theta = np.arccos(g/(l*w**2) * (m+M)/m)\n",
    "Y0 = [theta+ 0.01, 0]\n",
    "sol5 = solve_ivp(derivative, [times[0], times[-1]], Y0, t_eval=times, method='DOP853', rtol=1e-10, atol=1e-12)\n",
    "\n",
    "\n",
    "fig, ax = figure('t0', 1, 1, figsize=(6, 4))\n",
    "\n",
    "ax.plot(sol5.t, sol5.y[0]/np.pi, label='phi')\n",
    "w2 = np.sqrt(m*w**2*sin(theta)**2/(m+2*M*sin(theta)**2))\n",
    "ax.plot(sol5.t, 0.01/np.pi * np.cos(w2*sol5.t) + theta/np.pi, 'k--', label='analytic')"
   ]
  },
  {
   "cell_type": "markdown",
   "metadata": {},
   "source": [
    "## Parameters"
   ]
  },
  {
   "cell_type": "code",
   "execution_count": 9,
   "metadata": {},
   "outputs": [
    {
     "data": {
      "application/vnd.jupyter.widget-view+json": {
       "model_id": "32773a31ab464ce89772b0cd59ad3fad",
       "version_major": 2,
       "version_minor": 0
      },
      "text/plain": [
       "Canvas(toolbar=Toolbar(toolitems=[('Home', 'Reset original view', 'home', 'home'), ('Back', 'Back to previous …"
      ]
     },
     "metadata": {},
     "output_type": "display_data"
    },
    {
     "data": {
      "text/plain": [
       "[<matplotlib.lines.Line2D at 0x7f6ac94dbed0>]"
      ]
     },
     "execution_count": 9,
     "metadata": {},
     "output_type": "execute_result"
    }
   ],
   "source": [
    "fig, ax = figure('para', 1, 2, figsize=(12, 4))\n",
    "N=1000\n",
    "ws = np.linspace(0, 20, N)\n",
    "ind = ws > np.sqrt(g/l*(m+M)/m)\n",
    "ax[0].plot(ws, [0]*N, 'k--')\n",
    "ax[0].plot(ws[~ind], [0]*len(ws[~ind]), 'k')\n",
    "ax[0].plot(ws[ind], np.arccos(g/(l*ws[ind]**2)*(m+M)/m)/np.pi, 'b')\n",
    "ax[0].plot(ws[ind], -np.arccos(g/(l*ws[ind]**2)*(m+M)/m)/np.pi, 'r')\n",
    "ax[0].set_xlabel('$\\omega$')\n",
    "ax[0].set_ylabel('$\\\\theta_0/\\pi$')\n",
    "\n",
    "ws = np.linspace(0, 5.42, N)\n",
    "w2 = np.sqrt(g/l * (M+m)/m - ws**2)\n",
    "ax[1].plot(ws, w2, 'k')\n",
    "ax[1].set_xlabel('$\\omega$')\n",
    "ax[1].set_ylabel('$\\\\omega_0$')\n",
    "\n",
    "ws = np.linspace(5.43, 20, N)\n",
    "theta = np.arccos(g/(l*ws**2) * (m+M)/m)\n",
    "w2 = np.sqrt(m*ws**2*sin(theta)**2/(m+2*M*sin(theta)**2))\n",
    "ax[1].plot(ws, w2, 'b')"
   ]
  },
  {
   "cell_type": "code",
   "execution_count": null,
   "metadata": {},
   "outputs": [],
   "source": []
  }
 ],
 "metadata": {
  "kernelspec": {
   "display_name": "Python 3",
   "language": "python",
   "name": "python3"
  },
  "language_info": {
   "codemirror_mode": {
    "name": "ipython",
    "version": 3
   },
   "file_extension": ".py",
   "mimetype": "text/x-python",
   "name": "python",
   "nbconvert_exporter": "python",
   "pygments_lexer": "ipython3",
   "version": "3.7.8"
  }
 },
 "nbformat": 4,
 "nbformat_minor": 4
}
