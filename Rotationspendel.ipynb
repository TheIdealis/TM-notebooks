{
 "cells": [
  {
   "cell_type": "code",
   "execution_count": 1,
   "metadata": {},
   "outputs": [],
   "source": [
    "%matplotlib ipympl\n",
    "def figure(name, nrows=1, ncols=1, *args, **kwargs):\n",
    "    plt.close(name)\n",
    "    return plt.subplots(nrows, ncols, num=name, *args, **kwargs)\n",
    "\n",
    "import numpy as np\n",
    "import pylab as plt\n",
    "plt.style.use('default')"
   ]
  },
  {
   "cell_type": "code",
   "execution_count": 13,
   "metadata": {},
   "outputs": [],
   "source": [
    "from scipy.integrate import solve_ivp\n",
    "from ipywidgets import HBox, IntSlider, FloatSlider\n",
    "from numpy import sin, cos"
   ]
  },
  {
   "cell_type": "code",
   "execution_count": 103,
   "metadata": {},
   "outputs": [],
   "source": [
    "deg2rad = lambda deg: np.pi * deg / 180\n",
    "# m1, m2, M\n",
    "def get_cart_coords(y, t):\n",
    "    z = l * cos(y[0])\n",
    "    cart = np.zeros_like((9, y.shape[1]))\n",
    "    cart[0] = z * sin(w * t)\n",
    "    cart[1] = z * cos(w * t)\n",
    "    cart[2] = z\n",
    "    cart[3] = -z * sin(w * t)\n",
    "    cart[4] = -z * cos(w * t)\n",
    "    cart[5] = z\n",
    "    # Mz\n",
    "    cart[8] = 2 * z\n",
    "    return cart\n",
    "\n",
    "def energy(y):\n",
    "    T = 2*M*l**2*y[1]**2*sin(y[0])**2 + m*l**2*y[1]**2 + m*l**2*w**2*sin(y[0])**2\n",
    "    U = -2*(m+M)*g*l*cos(y[0]) \n",
    "    return np.array((U, T))"
   ]
  },
  {
   "cell_type": "code",
   "execution_count": 154,
   "metadata": {},
   "outputs": [],
   "source": [
    "# phi, dot(phi)\n",
    "def derivative(t, y):\n",
    "    dy = np.zeros(2)\n",
    "    dy[0] = y[1]\n",
    "    dy[1] = ((m*w**2 - 2*M*y[1]**2)*sin(y[0])*cos(y[0]) - g/l*(m+M)*sin(y[0]))/(2*M*sin(y[0])**2 + m)\n",
    "#     dy[1] -= 0.2 * y[1]\n",
    "    return dy"
   ]
  },
  {
   "cell_type": "code",
   "execution_count": 155,
   "metadata": {},
   "outputs": [
    {
     "name": "stdout",
     "output_type": "stream",
     "text": [
      "5.424942396007538\n"
     ]
    }
   ],
   "source": [
    "times = np.linspace(0, 60, 1000)\n",
    "m = 1\n",
    "M = 2\n",
    "g = 9.81\n",
    "l = 1\n",
    "w = 5.5\n",
    "\n",
    "Y0 = [deg2rad(1), 0.]\n",
    "# Y0 = [np.pi*0.95, 0.]\n",
    "print(np.sqrt(g/l * (m+M)/m))"
   ]
  },
  {
   "cell_type": "code",
   "execution_count": 156,
   "metadata": {},
   "outputs": [
    {
     "data": {
      "application/vnd.jupyter.widget-view+json": {
       "model_id": "579762eef42d4ee287b4ad2b08c10857",
       "version_major": 2,
       "version_minor": 0
      },
      "text/plain": [
       "Canvas(toolbar=Toolbar(toolitems=[('Home', 'Reset original view', 'home', 'home'), ('Back', 'Back to previous …"
      ]
     },
     "metadata": {},
     "output_type": "display_data"
    },
    {
     "data": {
      "text/plain": [
       "<matplotlib.legend.Legend at 0x7f5641d2f1d0>"
      ]
     },
     "execution_count": 156,
     "metadata": {},
     "output_type": "execute_result"
    }
   ],
   "source": [
    "sol = solve_ivp(derivative, [0, 100], Y0, t_eval=times, \n",
    "                method='DOP853',\n",
    "#                 method='LSODA',\n",
    "#                 method='RK23', \n",
    "                rtol=1e-8,\n",
    "                atol=1e-10\n",
    "               )\n",
    "# coords = get_cart_coords(sol.y)\n",
    "fig, ax = figure('example', 1, 2, figsize=(12, 4))\n",
    "\n",
    "ax[0].plot(sol.t, sol.y[0]/np.pi, label='phi')\n",
    "# ax[0].plot(sol.t, sol.y[1], label='p')\n",
    "steady = g/(l*w**2) * (m+M)/m\n",
    "if steady <= 1:\n",
    "    ax[0].plot(sol.t, [np.arccos(steady)/np.pi]*len(times), 'k-')\n",
    "ax[1].plot(sol.t, energy(sol.y).T)\n",
    "ax[0].legend()"
   ]
  },
  {
   "cell_type": "code",
   "execution_count": 78,
   "metadata": {},
   "outputs": [
    {
     "data": {
      "text/plain": [
       "'The solver successfully reached the end of the integration interval.'"
      ]
     },
     "execution_count": 78,
     "metadata": {},
     "output_type": "execute_result"
    }
   ],
   "source": [
    "sol.message"
   ]
  },
  {
   "cell_type": "code",
   "execution_count": null,
   "metadata": {},
   "outputs": [],
   "source": []
  }
 ],
 "metadata": {
  "kernelspec": {
   "display_name": "Python 3",
   "language": "python",
   "name": "python3"
  },
  "language_info": {
   "codemirror_mode": {
    "name": "ipython",
    "version": 3
   },
   "file_extension": ".py",
   "mimetype": "text/x-python",
   "name": "python",
   "nbconvert_exporter": "python",
   "pygments_lexer": "ipython3",
   "version": "3.7.8"
  }
 },
 "nbformat": 4,
 "nbformat_minor": 4
}
