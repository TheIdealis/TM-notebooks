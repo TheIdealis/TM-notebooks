{
 "cells": [
  {
   "cell_type": "markdown",
   "metadata": {},
   "source": [
    "# Investigating Potentials"
   ]
  },
  {
   "cell_type": "code",
   "execution_count": 1,
   "metadata": {},
   "outputs": [],
   "source": [
    "%matplotlib ipympl\n",
    "def figure(name, nrows=1, ncols=1, *args, **kwargs):\n",
    "    plt.close(name)\n",
    "    return plt.subplots(nrows, ncols, num=name, *args, **kwargs)\n",
    "\n",
    "import numpy as np\n",
    "import pylab as plt\n",
    "plt.style.use('default')"
   ]
  },
  {
   "cell_type": "code",
   "execution_count": 2,
   "metadata": {},
   "outputs": [],
   "source": [
    "import sympy as sy\n",
    "# Import all available functions (bad practice but ok for our example)\n",
    "from sympy.functions import *\n",
    "from ipywidgets import HBox, IntSlider, FloatSlider, VBox, Text, Layout\n",
    "from scipy.integrate import solve_ivp\n",
    "from scipy.optimize import curve_fit, minimize"
   ]
  },
  {
   "cell_type": "markdown",
   "metadata": {},
   "source": [
    "We want to have a look at $F = -fx + \\frac{a}{x}$, find the potential and "
   ]
  },
  {
   "cell_type": "code",
   "execution_count": 3,
   "metadata": {},
   "outputs": [],
   "source": [
    "x, a, f = sy.symbols('x a f')\n",
    "\n",
    "F = -f * x + a/x**3\n",
    "U = -sy.integrate(F, x)\n",
    "U_np = sy.lambdify([x, a, f], U)"
   ]
  },
  {
   "cell_type": "code",
   "execution_count": 4,
   "metadata": {},
   "outputs": [
    {
     "data": {
      "application/vnd.jupyter.widget-view+json": {
       "model_id": "f475108d110e4be892f79903031f7570",
       "version_major": 2,
       "version_minor": 0
      },
      "text/plain": [
       "Canvas(toolbar=Toolbar(toolitems=[('Home', 'Reset original view', 'home', 'home'), ('Back', 'Back to previous …"
      ]
     },
     "metadata": {},
     "output_type": "display_data"
    },
    {
     "name": "stderr",
     "output_type": "stream",
     "text": [
      "<string>:2: RuntimeWarning: divide by zero encountered in true_divide\n"
     ]
    },
    {
     "data": {
      "application/vnd.jupyter.widget-view+json": {
       "model_id": "e2f37f7925ed43a2b92ac6ee07d81145",
       "version_major": 2,
       "version_minor": 0
      },
      "text/plain": [
       "HBox(children=(FloatSlider(value=1.0, description='a: ', max=5.0), FloatSlider(value=1.0, description='f: ', m…"
      ]
     },
     "metadata": {},
     "output_type": "display_data"
    }
   ],
   "source": [
    "def pot_plot(F, name):\n",
    "    a_val = FloatSlider(value=1, min=0, max=5, description='a: ')\n",
    "    f_val = FloatSlider(value=1, min=0, max=5, description='f: ')\n",
    "    \n",
    "    fig, ax = figure(name)\n",
    "    U_np = sy.lambdify([x, a, f], U) \n",
    "    \n",
    "    xs = np.linspace(0, 5, 101)\n",
    "    line, = ax.plot(xs, U_np(xs, 1, 1))\n",
    "    \n",
    "    ax.set_ylim([-0.1, 13.1])\n",
    "    \n",
    "    def update_a(change):\n",
    "        redraw(change.new, f_val.value)\n",
    "\n",
    "    def update_f(change):\n",
    "        redraw(a_val.value, change.new)\n",
    "\n",
    "    def redraw(a0, f0):\n",
    "        line.set_data(xs, U_np(xs, a0, f0))\n",
    "        fig.canvas.draw()\n",
    "        fig.canvas.flush_events()    \n",
    "        \n",
    "    a_val.observe(update_a, names='value')\n",
    "    f_val.observe(update_f, names='value')\n",
    "    return HBox([a_val, f_val])\n",
    "\n",
    "pot_plot(F, 'potential')"
   ]
  },
  {
   "cell_type": "code",
   "execution_count": 5,
   "metadata": {},
   "outputs": [],
   "source": [
    "F_np = sy.lambdify([x, a, f], F) \n",
    "\n",
    "def find_start_pos(U, E, a0, f0):\n",
    "    xs = np.linspace(1e-10, 3, 10001)\n",
    "    Fs = sy.lambdify([x, a, f], F)(xs, a0, f0)\n",
    "    x_min = xs[abs(Fs).argmin()]\n",
    "    xs = np.linspace(1e-10, x_min, 10001)\n",
    "    Us = U_np(xs, a0, f0)\n",
    "    x1 = xs[(np.abs(Us - E)).argmin()]\n",
    "    xs = np.linspace(x_min, 5, 10001)\n",
    "    Us = U_np(xs, a0, f0)\n",
    "    x2 = xs[(np.abs(Us - E)).argmin()]\n",
    "    return [x1, x_min, x2]\n",
    "    \n",
    "def derivative(t, x, a0, f0):\n",
    "    return [\n",
    "        x[1],\n",
    "        F_np(x[0], a0, f0)\n",
    "    ]\n",
    "\n",
    "def func1(x, a, b, c):\n",
    "    return - a * np.cos(b*x) + c\n",
    "\n",
    "def func2(x, a, b, c):\n",
    "    return a * np.abs(np.cos(b*x + np.pi/2)) + c\n",
    "\n",
    "def min_fun(args, xdata, ydata, func):\n",
    "    return np.sum((ydata - func(xdata, *args))**2)\n",
    "\n",
    "def fit_func2(func, xdata, ydata, p0=[1, 1, 1]):\n",
    "    res = minimize(min_fun, p0, args=(xdata, ydata, func), method='BFGS',\n",
    "                  options={'disp':False})\n",
    "    return func(xdata, *res.x), res.fun, res.x"
   ]
  },
  {
   "cell_type": "code",
   "execution_count": 9,
   "metadata": {},
   "outputs": [
    {
     "data": {
      "application/vnd.jupyter.widget-view+json": {
       "model_id": "249d4f61ad63456ba7768f0e41325d97",
       "version_major": 2,
       "version_minor": 0
      },
      "text/plain": [
       "Canvas(toolbar=Toolbar(toolitems=[('Home', 'Reset original view', 'home', 'home'), ('Back', 'Back to previous …"
      ]
     },
     "metadata": {},
     "output_type": "display_data"
    },
    {
     "name": "stderr",
     "output_type": "stream",
     "text": [
      "<string>:2: RuntimeWarning: divide by zero encountered in true_divide\n"
     ]
    },
    {
     "data": {
      "application/vnd.jupyter.widget-view+json": {
       "model_id": "8cb156ea572c41ddbee4870a9a80a970",
       "version_major": 2,
       "version_minor": 0
      },
      "text/plain": [
       "HBox(children=(FloatSlider(value=1.0, description='a: ', max=5.0), FloatSlider(value=1.0, description='f: ', m…"
      ]
     },
     "metadata": {},
     "output_type": "display_data"
    }
   ],
   "source": [
    "def dyn_plot(F, name):\n",
    "    a_val = FloatSlider(value=1, min=0, max=5, description='a: ')\n",
    "    f_val = FloatSlider(value=1, min=0, max=5, description='f: ')\n",
    "    E_val = FloatSlider(value=3, min=.1, max=10, description='E: ', step=0.01)\n",
    "\n",
    "    fig, ax = figure(name, 1, 2, figsize=(12, 4))\n",
    "    U_np = sy.lambdify([x, a, f], U) \n",
    "    \n",
    "    xs = np.linspace(0, 5, 101)\n",
    "    \n",
    "    X0 = [find_start_pos(U, E_val.value, a_val.value, f_val.value)[0], 0]\n",
    "    times = np.linspace(0, 10, 300)\n",
    "    sol = solve_ivp(derivative, [times[0], times[-1]], X0, t_eval=times, args=(a_val.value, f_val.value))\n",
    "    \n",
    "    fit1, res1, res_y1 = fit_func2(func1, sol.t, sol.y[0], p0=[1, 2, 0.9])\n",
    "    fit2, res2, res_y2 = fit_func2(func2, sol.t, sol.y[0], p0=[1, 1, 0.9])\n",
    "                \n",
    "    lines = [ax[0].plot(xs, [E_val.value]*len(xs), 'k--')[0],\n",
    "             ax[0].plot(xs, U_np(xs, 1, 1))[0],\n",
    "             ax[1].plot(sol.t, fit1, 'k--')[0],\n",
    "             ax[1].plot(sol.t, fit2, 'k')[0],\n",
    "             ax[1].plot(sol.t, sol.y[0], 'r',  lw=2)[0],\n",
    "             ax[1].plot([0, 10], [res_y1[2]]*2, 'k--',  lw=2, zorder=1)[0],]\n",
    "    \n",
    "    \n",
    "    \n",
    "    ax[0].set_ylim([-0.1, 13.1])\n",
    "    ax[0].set_xlabel('x')\n",
    "    ax[0].set_ylabel('U(x)')\n",
    "    ax[1].set_xlabel('t')\n",
    "    ax[1].set_ylabel('x(t)')\n",
    "    \n",
    "    \n",
    "    def update_a(change):\n",
    "        redraw(change.new, f_val.value, E_val.value)\n",
    "\n",
    "    def update_f(change):\n",
    "        redraw(a_val.value, change.new, E_val.value)\n",
    "\n",
    "    def update_E(change):\n",
    "        redraw(a_val.value, f_val.value, change.new)\n",
    "        \n",
    "    def redraw(a0, f0, E0):\n",
    "        \n",
    "        lines[0].set_data(xs, [E0]*len(xs))\n",
    "        lines[1].set_data(xs, U_np(xs, a0, f0))\n",
    "        \n",
    "        x0 = find_start_pos(U, E0, a_val.value, f_val.value)\n",
    "        if U_np(x0[1], a_val.value, f_val.value) > E_val.value:\n",
    "            E_val.value = U_np(x0[1], a_val.value, f_val.value)            \n",
    "        X0 = [x0[0], 0]\n",
    "        \n",
    "        sol = solve_ivp(derivative, [times[0], times[-1]], X0, t_eval=times, args=(a_val.value, f_val.value))\n",
    "        lines[4].set_data(sol.t, sol.y[0])\n",
    "        \n",
    "        fit1, res1, res_y1 = fit_func2(func1, sol.t, sol.y[0], p0=[x0[2] - x0[0], 2*np.sqrt(f_val.value), x0[1]])\n",
    "        fit2, res2, res_y2 = fit_func2(func2, sol.t, sol.y[0], p0=[x0[2] - x0[0], np.sqrt(f_val.value), x0[1]])\n",
    "        \n",
    "        lines[2].set_data(sol.t, fit1)\n",
    "        lines[3].set_data(sol.t, fit2)\n",
    "        lines[5].set_data([0, 10], [res_y1[2]]*2)\n",
    "\n",
    "        \n",
    "        inds = [2, 3] if res1 > res2 else [3, 2]\n",
    "        lines[inds[0]].set_linestyle('dashed')\n",
    "        lines[inds[1]].set_linestyle('solid')\n",
    "        \n",
    "#         ax[1].relim()\n",
    "        # update ax.viewLim using the new dataLim\n",
    "#         ax[1].autoscale_view()\n",
    "        fig.canvas.draw()\n",
    "        fig.canvas.flush_events()    \n",
    "        \n",
    "    a_val.observe(update_a, names='value')\n",
    "    f_val.observe(update_f, names='value')\n",
    "    E_val.observe(update_E, names='value')\n",
    "    return HBox([a_val, f_val, E_val])\n",
    "\n",
    "dyn_plot(F, 'dyn')"
   ]
  },
  {
   "cell_type": "markdown",
   "metadata": {},
   "source": [
    "# Gravitationsschreibe"
   ]
  },
  {
   "cell_type": "code",
   "execution_count": 10,
   "metadata": {},
   "outputs": [],
   "source": [
    "def derivative2(t, x, R):\n",
    "    return [\n",
    "        x[1],\n",
    "        - 2*np.pi*x[0]/np.sqrt(x[0]**2 + R**2)\n",
    "    ]\n",
    "\n",
    "def fit_func(xdata, ydata, R, p0):\n",
    "    # dirty hack\n",
    "    if R < 0.9:\n",
    "        p0[0] = p0[0]/1.3\n",
    "    if R < 0.5:\n",
    "        p0[0] = p0[0]/1.3\n",
    "    if R < 0.31:\n",
    "        p0[0] = np.pi\n",
    "    func = lambda x, w: np.cos(w*x)\n",
    "    popt, pcov = curve_fit(func, xdata, ydata, p0=p0)\n",
    "    return func(xdata, *popt)"
   ]
  },
  {
   "cell_type": "code",
   "execution_count": 11,
   "metadata": {},
   "outputs": [
    {
     "data": {
      "application/vnd.jupyter.widget-view+json": {
       "model_id": "12341b739e8448eba61fc8ef8570352a",
       "version_major": 2,
       "version_minor": 0
      },
      "text/plain": [
       "Canvas(toolbar=Toolbar(toolitems=[('Home', 'Reset original view', 'home', 'home'), ('Back', 'Back to previous …"
      ]
     },
     "metadata": {},
     "output_type": "display_data"
    },
    {
     "data": {
      "application/vnd.jupyter.widget-view+json": {
       "model_id": "2ce3ff29940b433ba89afb316424ec48",
       "version_major": 2,
       "version_minor": 0
      },
      "text/plain": [
       "FloatSlider(value=1.0, description='R: ', max=5.0, min=0.01, step=0.01)"
      ]
     },
     "metadata": {},
     "output_type": "display_data"
    }
   ],
   "source": [
    "def dyn_plot2(name):\n",
    "    R_val = FloatSlider(value=1, min=0.01, max=5, step=0.01, description='R: ')\n",
    "\n",
    "    fig, ax = figure(name, 1, 2, figsize=(12, 5))\n",
    "\n",
    "    times = np.linspace(0, 10, 300)\n",
    "    sol = solve_ivp(derivative2, [times[0], times[-1]], [1, 0], t_eval=times, args=(R_val.value,), rtol=1e-6, atol=1e-8)\n",
    "    w = np.sqrt(2*np.pi / R_val.value)\n",
    "    fit = fit_func(sol.t, sol.y[0], R_val.value, p0=[w])\n",
    "    \n",
    "    xs = np.linspace(-2, 2, 100)\n",
    "    \n",
    "    lines = [ax[0].plot(sol.t, sol.y[0],  lw=2)[0],\n",
    "             ax[0].plot(sol.t, np.cos(w*sol.t), 'k--')[0],\n",
    "             ax[0].plot(sol.t, fit, linestyle='dashed')[0],\n",
    "             ax[1].plot(xs, np.sqrt(R_val.value**2 + xs**2) - R_val.value)[0],]\n",
    "    \n",
    "#     ax[0].set_ylim([-0.1, 13.1])\n",
    "    ax[0].set_xlabel('t')\n",
    "    ax[0].set_ylabel('x(t)')\n",
    "        \n",
    "    ax[1].set_xlabel('x')\n",
    "    ax[1].set_ylabel('U(x)')\n",
    "        \n",
    "    def redraw(change):\n",
    "        w = np.sqrt(2*np.pi / change.new)\n",
    "        sol = solve_ivp(derivative2, [times[0], times[-1]], [1, 0], t_eval=times, args=(change.new,), rtol=1e-6, atol=1e-8)\n",
    "        fit = fit_func(sol.t, sol.y[0], R_val.value,  p0=[w])\n",
    "        \n",
    "        lines[0].set_data(sol.t, sol.y[0])\n",
    "        lines[1].set_data(sol.t, np.cos(w*sol.t))\n",
    "        lines[2].set_data(sol.t, fit)\n",
    "        if change.new < 1:\n",
    "            lines[1].set_alpha(change.new)\n",
    "        else:\n",
    "            lines[1].set_alpha(1)\n",
    "        lines[3].set_data(xs, np.sqrt(R_val.value**2 + xs**2) - R_val.value)\n",
    "            \n",
    "        fig.canvas.draw()\n",
    "        fig.canvas.flush_events()    \n",
    "        \n",
    "    R_val.observe(redraw, names='value')\n",
    "    return R_val\n",
    "\n",
    "dyn_plot2('dyn')"
   ]
  },
  {
   "cell_type": "code",
   "execution_count": 80,
   "metadata": {},
   "outputs": [
    {
     "data": {
      "text/plain": [
       "3.1915382432114616"
      ]
     },
     "execution_count": 80,
     "metadata": {},
     "output_type": "execute_result"
    }
   ],
   "source": [
    "4 * np.sqrt(2/np.pi)"
   ]
  },
  {
   "cell_type": "code",
   "execution_count": null,
   "metadata": {},
   "outputs": [],
   "source": []
  }
 ],
 "metadata": {
  "kernelspec": {
   "display_name": "Python 3",
   "language": "python",
   "name": "python3"
  },
  "language_info": {
   "codemirror_mode": {
    "name": "ipython",
    "version": 3
   },
   "file_extension": ".py",
   "mimetype": "text/x-python",
   "name": "python",
   "nbconvert_exporter": "python",
   "pygments_lexer": "ipython3",
   "version": "3.7.9"
  }
 },
 "nbformat": 4,
 "nbformat_minor": 4
}
