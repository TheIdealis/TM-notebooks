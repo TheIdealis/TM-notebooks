{
 "cells": [
  {
   "cell_type": "markdown",
   "metadata": {},
   "source": [
    "# Investigating Potentials"
   ]
  },
  {
   "cell_type": "code",
   "execution_count": 1,
   "metadata": {},
   "outputs": [],
   "source": [
    "%matplotlib ipympl\n",
    "def figure(name, nrows=1, ncols=1, *args, **kwargs):\n",
    "    plt.close(name)\n",
    "    return plt.subplots(nrows, ncols, num=name, *args, **kwargs)\n",
    "\n",
    "import numpy as np\n",
    "import pylab as plt\n",
    "plt.style.use('default')"
   ]
  },
  {
   "cell_type": "code",
   "execution_count": 83,
   "metadata": {},
   "outputs": [],
   "source": [
    "import sympy as sy\n",
    "# Import all available functions (bad practice but ok for our example)\n",
    "from sympy.functions import *\n",
    "from ipywidgets import HBox, IntSlider, FloatSlider, VBox, Text, Layout\n",
    "from scipy.integrate import solve_ivp\n",
    "from scipy.optimize import curve_fit, minimize"
   ]
  },
  {
   "cell_type": "markdown",
   "metadata": {},
   "source": [
    "We want to have a look at $F = -fx + \\frac{a}{x}$, find the potential and "
   ]
  },
  {
   "cell_type": "code",
   "execution_count": 50,
   "metadata": {},
   "outputs": [],
   "source": [
    "x, a, f = sy.symbols('x a f')\n",
    "\n",
    "F = -f * x + a/x**3\n",
    "U = -sy.integrate(F, x)\n",
    "U_np = sy.lambdify([x, a, f], U)"
   ]
  },
  {
   "cell_type": "code",
   "execution_count": 6,
   "metadata": {},
   "outputs": [
    {
     "data": {
      "application/vnd.jupyter.widget-view+json": {
       "model_id": "3ebb63da25d8488eadbece47d20c140e",
       "version_major": 2,
       "version_minor": 0
      },
      "text/plain": [
       "Canvas(toolbar=Toolbar(toolitems=[('Home', 'Reset original view', 'home', 'home'), ('Back', 'Back to previous …"
      ]
     },
     "metadata": {},
     "output_type": "display_data"
    },
    {
     "name": "stderr",
     "output_type": "stream",
     "text": [
      "<string>:2: RuntimeWarning: divide by zero encountered in true_divide\n"
     ]
    },
    {
     "data": {
      "application/vnd.jupyter.widget-view+json": {
       "model_id": "748550e5513a494ead53e17d15f6be4d",
       "version_major": 2,
       "version_minor": 0
      },
      "text/plain": [
       "HBox(children=(FloatSlider(value=1.0, description='a: ', max=5.0), FloatSlider(value=1.0, description='f: ', m…"
      ]
     },
     "metadata": {},
     "output_type": "display_data"
    }
   ],
   "source": [
    "def pot_plot(F, name):\n",
    "    a_val = FloatSlider(value=1, min=0, max=5, description='a: ')\n",
    "    f_val = FloatSlider(value=1, min=0, max=5, description='f: ')\n",
    "    \n",
    "    fig, ax = figure(name)\n",
    "    U_np = sy.lambdify([x, a, f], U) \n",
    "    \n",
    "    xs = np.linspace(0, 5, 101)\n",
    "    line, = ax.plot(xs, U_np(xs, 1, 1))\n",
    "    \n",
    "    ax.set_ylim([-0.1, 13.1])\n",
    "    \n",
    "    def update_a(change):\n",
    "        redraw(change.new, f_val.value)\n",
    "\n",
    "    def update_f(change):\n",
    "        redraw(a_val.value, change.new)\n",
    "\n",
    "    def redraw(a0, f0):\n",
    "        line.set_data(xs, U_np(xs, a0, f0))\n",
    "        fig.canvas.draw()\n",
    "        fig.canvas.flush_events()    \n",
    "        \n",
    "    a_val.observe(update_a, names='value')\n",
    "    f_val.observe(update_f, names='value')\n",
    "    return HBox([a_val, f_val])\n",
    "\n",
    "pot_plot(F, 'potential')"
   ]
  },
  {
   "cell_type": "code",
   "execution_count": 112,
   "metadata": {},
   "outputs": [],
   "source": [
    "F_np = sy.lambdify([x, a, f], F) \n",
    "\n",
    "def find_start_pos(U, E, a0, f0):\n",
    "    xs = np.linspace(1e-10, 3, 10001)\n",
    "    Fs = sy.lambdify([x, a, f], F)(xs, a0, f0)\n",
    "    x_min = xs[abs(Fs).argmin()]\n",
    "    xs = np.linspace(1e-10, x_min, 10001)\n",
    "    Us = U_np(xs, a0, f0)\n",
    "    x1 = xs[(np.abs(Us - E)).argmin()]\n",
    "    xs = np.linspace(x_min, 5, 10001)\n",
    "    Us = U_np(xs, a0, f0)\n",
    "    x2 = xs[(np.abs(Us - E)).argmin()]\n",
    "    return [x1, x_min, x2]\n",
    "    \n",
    "def derivative(t, x, a0, f0):\n",
    "    return [\n",
    "        x[1],\n",
    "        F_np(x[0], a0, f0)\n",
    "    ]\n",
    "\n",
    "def func1(x, a, b, c):\n",
    "    return - a * np.cos(b*x) + c\n",
    "\n",
    "def func2(x, a, b, c):\n",
    "    return a * np.abs(np.cos(b*x + np.pi/2)) + c\n",
    "\n",
    "def fit_func(func, xdata, ydata, p0=[1, 1, 1]):\n",
    "    popt, pcov = curve_fit(func, xdata, ydata, p0=p0)\n",
    "    return func(xdata, *popt)\n",
    "\n",
    "def min_fun(args, xdata, ydata, func):\n",
    "    return np.sum((ydata - func(xdata, *args))**2)\n",
    "\n",
    "def fit_func2(func, xdata, ydata, p0=[1, 1, 1]):\n",
    "    res = minimize(min_fun, p0, args=(xdata, ydata, func), method='BFGS',\n",
    "                  options={'disp':False})\n",
    "    return func(xdata, *res.x), res.fun"
   ]
  },
  {
   "cell_type": "code",
   "execution_count": 120,
   "metadata": {},
   "outputs": [
    {
     "data": {
      "application/vnd.jupyter.widget-view+json": {
       "model_id": "841c4de0c3dd41af9ff9c1136cc569a9",
       "version_major": 2,
       "version_minor": 0
      },
      "text/plain": [
       "Canvas(toolbar=Toolbar(toolitems=[('Home', 'Reset original view', 'home', 'home'), ('Back', 'Back to previous …"
      ]
     },
     "metadata": {},
     "output_type": "display_data"
    },
    {
     "name": "stderr",
     "output_type": "stream",
     "text": [
      "<string>:2: RuntimeWarning: divide by zero encountered in true_divide\n"
     ]
    },
    {
     "data": {
      "application/vnd.jupyter.widget-view+json": {
       "model_id": "d194b0853922483dbb784f42bdbb7835",
       "version_major": 2,
       "version_minor": 0
      },
      "text/plain": [
       "HBox(children=(FloatSlider(value=1.0, description='a: ', max=5.0), FloatSlider(value=1.0, description='f: ', m…"
      ]
     },
     "metadata": {},
     "output_type": "display_data"
    }
   ],
   "source": [
    "def dyn_plot(F, name):\n",
    "    a_val = FloatSlider(value=1, min=0, max=5, description='a: ')\n",
    "    f_val = FloatSlider(value=1, min=0, max=5, description='f: ')\n",
    "    E_val = FloatSlider(value=3, min=.1, max=10, description='E: ')\n",
    "\n",
    "    fig, ax = figure(name, 1, 2, figsize=(12, 4))\n",
    "    U_np = sy.lambdify([x, a, f], U) \n",
    "    \n",
    "    xs = np.linspace(0, 5, 101)\n",
    "    \n",
    "    X0 = [find_start_pos(U, E_val.value, a_val.value, f_val.value)[0], 0]\n",
    "    times = np.linspace(0, 10, 300)\n",
    "    sol = solve_ivp(derivative, [times[0], times[-1]], X0, t_eval=times, args=(a_val.value, f_val.value))\n",
    "    \n",
    "    fit1, res1 = fit_func2(func1, sol.t, sol.y[0], p0=[1, 2, 0.9])\n",
    "    fit2, res2 = fit_func2(func2, sol.t, sol.y[0], p0=[1, 1, 0.9])\n",
    "                \n",
    "    lines = [ax[0].plot(xs, [E_val.value]*len(xs), 'k--')[0],\n",
    "             ax[0].plot(xs, U_np(xs, 1, 1))[0],\n",
    "             ax[1].plot(sol.t, fit1, 'k--')[0],\n",
    "             ax[1].plot(sol.t, fit2, 'k')[0],\n",
    "             ax[1].plot(sol.t, sol.y[0], 'r',  lw=2)[0],]\n",
    "    \n",
    "    \n",
    "    \n",
    "    ax[0].set_ylim([-0.1, 13.1])\n",
    "    ax[0].set_xlabel('x')\n",
    "    ax[0].set_ylabel('U(x)')\n",
    "    ax[1].set_xlabel('t')\n",
    "    ax[1].set_ylabel('x(t)')\n",
    "    \n",
    "    \n",
    "    def update_a(change):\n",
    "        redraw(change.new, f_val.value, E_val.value)\n",
    "\n",
    "    def update_f(change):\n",
    "        redraw(a_val.value, change.new, E_val.value)\n",
    "\n",
    "    def update_E(change):\n",
    "        redraw(a_val.value, f_val.value, change.new)\n",
    "        \n",
    "    def redraw(a0, f0, E0):\n",
    "        \n",
    "        lines[0].set_data(xs, [E0]*len(xs))\n",
    "        lines[1].set_data(xs, U_np(xs, a0, f0))\n",
    "        \n",
    "        x0 = find_start_pos(U, E0, a_val.value, f_val.value)\n",
    "        if U_np(x0[1], a_val.value, f_val.value) > E_val.value:\n",
    "            E_val.value = U_np(x0[1], a_val.value, f_val.value)            \n",
    "        X0 = [x0[0], 0]\n",
    "        \n",
    "        sol = solve_ivp(derivative, [times[0], times[-1]], X0, t_eval=times, args=(a_val.value, f_val.value))\n",
    "        lines[4].set_data(sol.t, sol.y[0])\n",
    "        \n",
    "        fit1, res1 = fit_func2(func1, sol.t, sol.y[0], p0=[x0[2] - x0[0], 2*np.sqrt(f_val.value), x0[1]])\n",
    "        fit2, res2 = fit_func2(func2, sol.t, sol.y[0], p0=[x0[2] - x0[0], np.sqrt(f_val.value), x0[1]])\n",
    "        \n",
    "        lines[2].set_data(sol.t, fit1)\n",
    "        lines[3].set_data(sol.t, fit2)\n",
    "        \n",
    "        inds = [2, 3] if res1 > res2 else [3, 2]\n",
    "        lines[inds[0]].set_linestyle('dashed')\n",
    "        lines[inds[1]].set_linestyle('solid')\n",
    "        \n",
    "        ax[1].relim()\n",
    "        # update ax.viewLim using the new dataLim\n",
    "        ax[1].autoscale_view()\n",
    "        fig.canvas.draw()\n",
    "        fig.canvas.flush_events()    \n",
    "        \n",
    "    a_val.observe(update_a, names='value')\n",
    "    f_val.observe(update_f, names='value')\n",
    "    E_val.observe(update_E, names='value')\n",
    "    return HBox([a_val, f_val, E_val])\n",
    "\n",
    "dyn_plot(F, 'dyn')"
   ]
  },
  {
   "cell_type": "code",
   "execution_count": null,
   "metadata": {},
   "outputs": [],
   "source": []
  },
  {
   "cell_type": "code",
   "execution_count": 10,
   "metadata": {},
   "outputs": [],
   "source": []
  },
  {
   "cell_type": "code",
   "execution_count": null,
   "metadata": {},
   "outputs": [],
   "source": []
  }
 ],
 "metadata": {
  "kernelspec": {
   "display_name": "Python 3",
   "language": "python",
   "name": "python3"
  },
  "language_info": {
   "codemirror_mode": {
    "name": "ipython",
    "version": 3
   },
   "file_extension": ".py",
   "mimetype": "text/x-python",
   "name": "python",
   "nbconvert_exporter": "python",
   "pygments_lexer": "ipython3",
   "version": "3.7.8"
  }
 },
 "nbformat": 4,
 "nbformat_minor": 4
}
