{
 "cells": [
  {
   "cell_type": "markdown",
   "metadata": {},
   "source": [
    "# Coriolis force"
   ]
  },
  {
   "cell_type": "code",
   "execution_count": 1,
   "metadata": {},
   "outputs": [],
   "source": [
    "%matplotlib ipympl\n",
    "def figure(name, nrows=1, ncols=1, *args, **kwargs):\n",
    "    plt.close(name)\n",
    "    return plt.subplots(nrows, ncols, num=name, *args, **kwargs)\n",
    "\n",
    "import numpy as np\n",
    "import pylab as plt\n",
    "plt.style.use('default')"
   ]
  },
  {
   "cell_type": "code",
   "execution_count": 2,
   "metadata": {},
   "outputs": [],
   "source": [
    "from ipywidgets import HBox, IntSlider, FloatSlider, FloatLogSlider, RadioButtons, Select\n",
    "from scipy.integrate import solve_ivp\n",
    "from mpl_toolkits.mplot3d import Axes3D\n",
    "from numpy.linalg import norm\n",
    "from numpy import cross\n",
    "import scipy.constants as sc"
   ]
  },
  {
   "cell_type": "markdown",
   "metadata": {},
   "source": [
    "### useful constants"
   ]
  },
  {
   "cell_type": "code",
   "execution_count": 3,
   "metadata": {},
   "outputs": [],
   "source": [
    "g = 9.813\n",
    "R0 = 6370 * 1e3\n",
    "G = sc.G * 5.972 * 1e24 / R0**3\n",
    "ka = 0.45 * np.pi * 0.05**2 * 1.341 / (2 * 0.5) "
   ]
  },
  {
   "cell_type": "code",
   "execution_count": 4,
   "metadata": {},
   "outputs": [],
   "source": [
    "def derivative1(t, y, w):\n",
    "    dy = np.zeros(6)\n",
    "    r = y[:3]\n",
    "    v = y[3:]\n",
    "    dy[:3] = y[3:]\n",
    "    # we dont use z'' = -g, but r'' = -G*r!, it's way more general\n",
    "    dy[3:] = -G * r - 2 * cross(w, v) - cross(w, cross(w, r))\n",
    "    return dy\n",
    "\n",
    "def derivative2(t, y, w):\n",
    "    dy = np.zeros(6)\n",
    "    r = y[:3]\n",
    "    v = y[3:]\n",
    "    dy[:3] = y[3:]\n",
    "    # we dont use z'' = -g, but r'' = -G*r!, it's way more general\n",
    "    dy[3:] = -G * r - 2 * cross(w, v)\n",
    "    return dy\n",
    "\n",
    "def derivative3(t, y, w):\n",
    "    dy = np.zeros(6)\n",
    "    r = y[:3]\n",
    "    v = y[3:]\n",
    "    dy[:3] = y[3:]\n",
    "    # we dont use z'' = -g, but r'' = -G*r!, it's way more general\n",
    "    dy[3:] = -G * r - 2 * cross(w, v) - cross(w, cross(w, r)) - ka * v * norm(v)\n",
    "    return dy\n",
    "\n",
    "d_fkts = [derivative1, derivative2, derivative3]"
   ]
  },
  {
   "cell_type": "code",
   "execution_count": 5,
   "metadata": {},
   "outputs": [],
   "source": [
    "h0 = 500\n",
    "times = np.linspace(0, np.sqrt(2 * h0 / g), 1000)\n",
    "psi = 39 / 180 * np.pi\n",
    "w = 7.27 * 1e-5 *np.array([-np.sin(psi), 0, np.cos(psi)])\n",
    "\n",
    "Y0 = [0, 0, h0 + R0, 0, 0, 0]"
   ]
  },
  {
   "cell_type": "code",
   "execution_count": 6,
   "metadata": {},
   "outputs": [
    {
     "name": "stdout",
     "output_type": "stream",
     "text": [
      "0.008232896519296685 0.00014965345883631616\n"
     ]
    }
   ],
   "source": [
    "print(norm(w)**2 * R0 * np.cos(psi)*np.sin(psi)/2, norm(w)*g/3*np.sin(psi))"
   ]
  },
  {
   "cell_type": "code",
   "execution_count": 7,
   "metadata": {},
   "outputs": [
    {
     "data": {
      "application/vnd.jupyter.widget-view+json": {
       "model_id": "fddeda8631b04c94a14f995320481e93",
       "version_major": 2,
       "version_minor": 0
      },
      "text/plain": [
       "Canvas(toolbar=Toolbar(toolitems=[('Home', 'Reset original view', 'home', 'home'), ('Back', 'Back to previous …"
      ]
     },
     "metadata": {},
     "output_type": "display_data"
    },
    {
     "data": {
      "text/plain": [
       "Text(0.5, 0, 'z in m')"
      ]
     },
     "execution_count": 7,
     "metadata": {},
     "output_type": "execute_result"
    }
   ],
   "source": [
    "sol = solve_ivp(derivative1, [times[0], times[-1]], Y0, \n",
    "                t_eval=times, \n",
    "                args=(w,)\n",
    "               )\n",
    "sol.y[2] -=  R0\n",
    "\n",
    "plt.close('first_test')\n",
    "fig = plt.figure('first_test', figsize=(12, 6))\n",
    "ax1 = fig.add_subplot(121, projection='3d')\n",
    "ax2 = fig.add_subplot(122, projection='3d')\n",
    "\n",
    "ax1.plot(sol.y[0], sol.y[1], sol.y[2])\n",
    "ax2.plot(sol.t, sol.y[1], sol.y[2])\n",
    "\n",
    "ax1.set_xlabel('x in m')\n",
    "ax1.set_ylabel('y in m')\n",
    "ax1.set_zlabel('z in m')\n",
    "\n",
    "ax2.set_xlabel('t in s')\n",
    "ax2.set_ylabel('x in m')\n",
    "ax2.set_zlabel('z in m')"
   ]
  },
  {
   "cell_type": "code",
   "execution_count": 8,
   "metadata": {},
   "outputs": [
    {
     "data": {
      "application/vnd.jupyter.widget-view+json": {
       "model_id": "012c71827f5d4a9cb496a0fc2de183de",
       "version_major": 2,
       "version_minor": 0
      },
      "text/plain": [
       "Canvas(toolbar=Toolbar(toolitems=[('Home', 'Reset original view', 'home', 'home'), ('Back', 'Back to previous …"
      ]
     },
     "metadata": {},
     "output_type": "display_data"
    },
    {
     "data": {
      "text/plain": [
       "Text(0, 0.5, 'z in m')"
      ]
     },
     "execution_count": 8,
     "metadata": {},
     "output_type": "execute_result"
    }
   ],
   "source": [
    "fig, ax = figure('sep_axis', 1, 3, figsize=(14, 4))\n",
    "\n",
    "for i in range(3):\n",
    "    ax[i].plot(sol.t, sol.y[i])\n",
    "    ax[i].set_xlabel('t in s')\n",
    "\n",
    "\n",
    "ax[0].plot(sol.t, norm(w)**2/2 * R0 * np.sin(psi) * np.cos(psi) * sol.t**2, 'k--')\n",
    "ax[1].plot(sol.t, 9.813/3 * norm(w) * np.sin(psi) * sol.t**3, 'k--')\n",
    "ax[2].plot(sol.t, -9.813/2 * sol.t**2 + Y0[2] - R0, 'k--')\n",
    "\n",
    "ax[0].set_ylabel('x in m')\n",
    "ax[1].set_ylabel('y in m')\n",
    "ax[2].set_ylabel('z in m')"
   ]
  },
  {
   "cell_type": "code",
   "execution_count": 9,
   "metadata": {},
   "outputs": [
    {
     "data": {
      "application/vnd.jupyter.widget-view+json": {
       "model_id": "3289a4573163488ab6673bb547608310",
       "version_major": 2,
       "version_minor": 0
      },
      "text/plain": [
       "Canvas(toolbar=Toolbar(toolitems=[('Home', 'Reset original view', 'home', 'home'), ('Back', 'Back to previous …"
      ]
     },
     "metadata": {},
     "output_type": "display_data"
    },
    {
     "data": {
      "application/vnd.jupyter.widget-view+json": {
       "model_id": "dc47bc5b798b4c1d9a91f4943d060d6b",
       "version_major": 2,
       "version_minor": 0
      },
      "text/plain": [
       "HBox(children=(FloatSlider(value=39.00000000000001, description='$\\\\psi$: ', max=90.0, step=1.0), FloatLogSlid…"
      ]
     },
     "metadata": {},
     "output_type": "display_data"
    }
   ],
   "source": [
    "def get_slider():\n",
    "    psi_s = FloatSlider(\n",
    "        orientation='horizontal', description='$\\psi$: ',\n",
    "        value=psi/np.pi * 180, min=0, max=90, step = 1\n",
    "    )\n",
    "    w_s = FloatLogSlider(\n",
    "        orientation='horizontal', description='$\\omega$: ',\n",
    "        value=norm(w), min=-6, max=2, step = 0.1, base=10\n",
    "    )\n",
    "\n",
    "    d_s = Select(\n",
    "        options=['Full', 'without F_z', 'friction'],\n",
    "        value='Full',\n",
    "        rows=3,\n",
    "        description='der: ',\n",
    "        disabled=False\n",
    "    )\n",
    "    \n",
    "    fig, ax = figure('dyn', 2, 3, figsize=(13, 5))\n",
    "    lines = [ax[0, 0].plot(times, sol.y[0])[0],\n",
    "             ax[0, 1].plot(times, sol.y[1])[0],\n",
    "             ax[0, 2].plot(times, sol.y[2])[0],\n",
    "             ax[1, 0].plot(times, sol.y[3])[0],\n",
    "             ax[1, 1].plot(times, sol.y[4])[0],\n",
    "             ax[1, 2].plot(times, sol.y[5])[0],\n",
    "            ax[0, 1].plot(sol.t, 9.813/3 * w_s.value * np.sin(psi) * sol.t**3, 'k--')[0],\n",
    "            ax[0, 2].plot(sol.t, -9.813/2 * sol.t**2 + Y0[2] - R0, 'k--')[0],\n",
    "            ax[0, 0].plot(sol.t, norm(w)**2/2 * R0 * np.sin(psi) * np.cos(psi) * sol.t**2, 'k--')[0]]\n",
    "\n",
    "\n",
    "    for i in range(3):\n",
    "        ax[1, i].set_xlabel('t in s')\n",
    "        \n",
    "    ax[0, 0].set_ylabel('position')\n",
    "    ax[1, 0].set_ylabel('velocity')\n",
    "    for i, x in enumerate(['x', 'y', 'z']):\n",
    "        ax[0, i].set_title(x)\n",
    "    \n",
    "    def redraw(change):\n",
    "        psi = psi_s.value / 180 * np.pi \n",
    "        w = w_s.value\n",
    "        sol = solve_ivp(d_fkts[d_s.index], [times[0], times[-1]], Y0, \n",
    "                t_eval=times, \n",
    "                args=(w_s.value * np.array([-np.sin(psi), 0, np.cos(psi)]),),\n",
    "               )\n",
    "        sol.y[2] -=  R0\n",
    "        \n",
    "        for i in range(6):\n",
    "            lines[i].set_data(sol.t, sol.y[i])\n",
    "            \n",
    "        lines[6].set_data(sol.t, 9.813/3 * w * np.sin(psi) * sol.t**3)\n",
    "        lines[7].set_data(sol.t, -9.813/2 * sol.t**2 + Y0[2] - R0)\n",
    "        lines[8].set_data(sol.t, norm(w)**2/2 * R0 * np.sin(psi) * np.cos(psi) * sol.t**2)\n",
    "        \n",
    "        for i in range(3):\n",
    "            for j in range(2):\n",
    "                ax[j, i].relim()\n",
    "                ax[j, i].autoscale_view()\n",
    "            \n",
    "        fig.canvas.draw()\n",
    "        fig.canvas.flush_events()\n",
    "        \n",
    "    psi_s.observe(redraw, names='value')\n",
    "    w_s.observe(redraw, names='value')\n",
    "    d_s.observe(redraw, names='value')\n",
    "    return HBox([psi_s, w_s, d_s])\n",
    "\n",
    "get_slider()"
   ]
  },
  {
   "cell_type": "markdown",
   "metadata": {},
   "source": [
    "## reverence frame"
   ]
  },
  {
   "cell_type": "code",
   "execution_count": 42,
   "metadata": {},
   "outputs": [],
   "source": [
    "Tphi = lambda phi: np.array([[np.cos(phi),-np.sin(phi), 0],\n",
    "                             [np.sin(phi), np.cos(phi), 0],\n",
    "                             [          0,           0, 1]])\n",
    "Tthe = lambda the: np.array([[ np.cos(the), 0, np.sin(the)],\n",
    "                             [           0, 1,           0],\n",
    "                             [-np.sin(the), 0, np.cos(the)]])"
   ]
  },
  {
   "cell_type": "code",
   "execution_count": 44,
   "metadata": {},
   "outputs": [
    {
     "data": {
      "application/vnd.jupyter.widget-view+json": {
       "model_id": "0e818c92090945bd80536158e8ecb711",
       "version_major": 2,
       "version_minor": 0
      },
      "text/plain": [
       "Canvas(toolbar=Toolbar(toolitems=[('Home', 'Reset original view', 'home', 'home'), ('Back', 'Back to previous …"
      ]
     },
     "metadata": {},
     "output_type": "display_data"
    },
    {
     "data": {
      "text/plain": [
       "Text(0.5, 0, 'z')"
      ]
     },
     "execution_count": 44,
     "metadata": {},
     "output_type": "execute_result"
    }
   ],
   "source": [
    "plt.close('test_rot')\n",
    "fig = plt.figure('test_rot', figsize=(5, 5))\n",
    "ax = fig.add_subplot(111, projection='3d')\n",
    "\n",
    "v0 = np.array([0, 0, 0])\n",
    "v1 = np.array([0, 0, 1])\n",
    "v2 = Tthe(np.pi/4).dot(v1)\n",
    "v3 = Tphi(np.pi/2).dot(v2)\n",
    "\n",
    "ax.plot(*list(zip(v0, v1)))\n",
    "ax.plot(*list(zip(v0, v2)))\n",
    "ax.plot(*list(zip(v0, v3)))\n",
    "\n",
    "ax.set_xlim([-1.1, 1.1])\n",
    "ax.set_ylim([-1.1, 1.1])\n",
    "ax.set_zlim([-1.1, 1.1])\n",
    "\n",
    "ax.set_xlabel('x')\n",
    "ax.set_ylabel('y')\n",
    "ax.set_zlabel('z')"
   ]
  },
  {
   "cell_type": "code",
   "execution_count": 46,
   "metadata": {},
   "outputs": [
    {
     "data": {
      "application/vnd.jupyter.widget-view+json": {
       "model_id": "6dcdeb3d8b2048d3833d1d60c79d1108",
       "version_major": 2,
       "version_minor": 0
      },
      "text/plain": [
       "Canvas(toolbar=Toolbar(toolitems=[('Home', 'Reset original view', 'home', 'home'), ('Back', 'Back to previous …"
      ]
     },
     "metadata": {},
     "output_type": "display_data"
    },
    {
     "data": {
      "application/vnd.jupyter.widget-view+json": {
       "model_id": "3e1fcba2efe1478995e9c4721863ee1f",
       "version_major": 2,
       "version_minor": 0
      },
      "text/plain": [
       "HBox(children=(FloatSlider(value=51.0, description='$\\\\psi$: ', max=90.0, step=1.0), FloatLogSlider(value=7.27…"
      ]
     },
     "metadata": {},
     "output_type": "display_data"
    }
   ],
   "source": [
    "times2 = np.linspace(0, 60*60, 1000)\n",
    "psi = 51 / 180 * np.pi\n",
    "w = 7.27 * 1e-5 *np.array([-np.sin(psi), 0, np.cos(psi)])\n",
    "\n",
    "def get_slider2():\n",
    "    psi_s = FloatSlider(\n",
    "        orientation='horizontal', description='$\\psi$: ',\n",
    "        value=psi/np.pi * 180, min=0, max=90, step = 1\n",
    "    )\n",
    "    \n",
    "    w_s = FloatLogSlider(\n",
    "        orientation='horizontal', description='$\\omega$: ',\n",
    "        value=norm(w), min=-6, max=2, step = 0.1, base=10\n",
    "    )\n",
    "    \n",
    "    d_s = Select(\n",
    "        options=['Full', 'without F_z', 'friction'],\n",
    "        value='Full',\n",
    "        rows=3,\n",
    "        description='der: ',\n",
    "        disabled=False\n",
    "    )\n",
    "    \n",
    "    plt.close('ref_sol')\n",
    "    fig = plt.figure('ref_sol', figsize=(6, 7))\n",
    "    ax = fig.add_subplot(111, projection='3d')\n",
    "\n",
    "    u, v = np.mgrid[0:2*np.pi:48j, 0:np.pi:48j]\n",
    "    x = R0 * np.cos(u)*np.sin(v)\n",
    "    y = R0 * np.sin(u)*np.sin(v)\n",
    "    z = R0 * np.cos(v)\n",
    "    # ax.plot_surface(x, y, z, color=\"k\", alpha=0.15)\n",
    "    ax.plot_wireframe(x, y, z, color=\"k\", alpha=0.1, rstride=2, cstride=2)\n",
    "\n",
    "    ax.set_xlabel('x in m')\n",
    "    ax.set_ylabel('y in m')\n",
    "    ax.set_zlabel('z in m')\n",
    "    ax.set_box_aspect((1, 1, 1))\n",
    "\n",
    "    Y0 = [0, 0, R0, 0, 0, 0]\n",
    "\n",
    "    sol = solve_ivp(derivative1, [times2[0], times2[-1]], Y0, \n",
    "                    t_eval=times2, \n",
    "                    args=(w,),\n",
    "                    rtol=1e-10,\n",
    "                    atol=1e-12,\n",
    "                    method='DOP853'\n",
    "                   )\n",
    "\n",
    "    ref_coords = np.zeros_like(sol.y[:3])\n",
    "    w0 = norm(w)\n",
    "    for i, t in enumerate(sol.t):\n",
    "        ref_coords[:, i] = Tphi(w0 * t).dot(Tthe(psi).dot(sol.y[:3, i]))\n",
    "\n",
    "    lines = [ax.plot(*ref_coords[:,0], 'ko')[0],\n",
    "             ax.plot(*ref_coords)[0]]\n",
    "    \n",
    "    \n",
    "    def redraw(change):\n",
    "        psi = psi_s.value * np.pi/180\n",
    "        w0 = w_s.value\n",
    "        w = w0 * np.array([-np.sin(psi), 0, np.cos(psi)])\n",
    "        sol = solve_ivp(d_fkts[d_s.index], [times2[0], times2[-1]], Y0, \n",
    "                t_eval=times2, \n",
    "                args=(w,),\n",
    "                rtol=1e-10,\n",
    "                atol=1e-12,\n",
    "                method='DOP853'\n",
    "               )\n",
    "\n",
    "        ref_coords = np.zeros_like(sol.y[:3])\n",
    "        for i, t in enumerate(sol.t):\n",
    "            ref_coords[:, i] = Tphi(w0 * t).dot(Tthe(psi).dot(sol.y[:3, i]))\n",
    "            \n",
    "        lines[0].set_data(ref_coords[:2, 0])\n",
    "        lines[0].set_3d_properties(ref_coords[2, 0])\n",
    "        lines[1].set_data(ref_coords[:2, :])\n",
    "        lines[1].set_3d_properties(ref_coords[2, :])\n",
    "            \n",
    "        fig.canvas.draw()\n",
    "        fig.canvas.flush_events()\n",
    "        \n",
    "    psi_s.observe(redraw, names='value')\n",
    "    w_s.observe(redraw, names='value')\n",
    "    d_s.observe(redraw, names='value')\n",
    "    return HBox([psi_s, w_s, d_s])\n",
    "\n",
    "get_slider2()"
   ]
  },
  {
   "cell_type": "markdown",
   "metadata": {},
   "source": [
    "# Friction"
   ]
  },
  {
   "cell_type": "code",
   "execution_count": 47,
   "metadata": {},
   "outputs": [
    {
     "name": "stdout",
     "output_type": "stream",
     "text": [
      "4.8763718568903895\n",
      "14.1923340159109 -45.30315149516195 45.502505719580824\n",
      "3.631681304377435 72.66253536321808\n",
      "72.66253536321808\n"
     ]
    }
   ],
   "source": [
    "v0 = 79.62579883802087\n",
    "h0 = 500\n",
    "ts = np.linspace(0, 10, 100)\n",
    "\n",
    "vt = - np.sqrt(g / ka) * np.tan(np.sqrt(ka * g) * ts) + v0\n",
    "vd = lambda t: -np.sqrt(g/ka) * np.tanh(np.sqrt(ka * g) * t)\n",
    "zr = lambda t, h: h - 1/ka * np.log(np.cosh(np.sqrt(ka * g) * t))\n",
    "\n",
    "print(1 / np.sqrt(ka * g) * np.arctan(np.sqrt(ka/g) * v0))\n",
    "t0 = 1 / np.sqrt(ka * g) * np.arccosh(np.exp(h0*ka))\n",
    "print(t0, vd(t0), np.sqrt(g/ka))\n",
    "\n",
    "t1 = np.linspace(0, 1/np.sqrt(g*ka) * np.arccosh(np.exp(ka*h0)), 100)\n",
    "z1 = zr(t1, h0)\n",
    "\n",
    "ts = 1/np.sqrt(g*ka) * np.arctan(np.sqrt(ka/g) * abs(vd(t0)))\n",
    "zs = - 1 / ka * np.log(np.cos(np.sqrt(g*ka) * ts))\n",
    "\n",
    "t2 = np.linspace(0, abs(ts))\n",
    "\n",
    "print(ts, zs)\n",
    "vu = lambda t: np.sqrt(g/ka) * np.tan(np.sqrt(ka * g) * (t - ts))\n",
    "zu = lambda t, h: h + 1/ka * np.log(np.cos(np.sqrt(ka * g) * (t - ts)))\n",
    "print(zu(t2[-1], zs))"
   ]
  },
  {
   "cell_type": "code",
   "execution_count": 48,
   "metadata": {},
   "outputs": [
    {
     "data": {
      "application/vnd.jupyter.widget-view+json": {
       "model_id": "0a2df547349645c5824117f3b39774ab",
       "version_major": 2,
       "version_minor": 0
      },
      "text/plain": [
       "Canvas(toolbar=Toolbar(toolitems=[('Home', 'Reset original view', 'home', 'home'), ('Back', 'Back to previous …"
      ]
     },
     "metadata": {},
     "output_type": "display_data"
    },
    {
     "data": {
      "text/plain": [
       "[<matplotlib.lines.Line2D at 0x7fd16e0babd0>]"
      ]
     },
     "execution_count": 48,
     "metadata": {},
     "output_type": "execute_result"
    }
   ],
   "source": [
    "fig, ax = figure('frigger', 1, 2)\n",
    "ax[0].plot(t1, z1)\n",
    "ax[0].plot(t2 + t1[-1], zu(t2, zs))\n",
    "ax[1].plot(t1, vd(t1))\n",
    "ax[1].plot(t2 + t1[-1], vu(t2))\n",
    "# ax[0].plot(t1 + t1[-1], -zu(t1, zs))"
   ]
  },
  {
   "cell_type": "code",
   "execution_count": null,
   "metadata": {},
   "outputs": [],
   "source": []
  }
 ],
 "metadata": {
  "kernelspec": {
   "display_name": "Python 3",
   "language": "python",
   "name": "python3"
  },
  "language_info": {
   "codemirror_mode": {
    "name": "ipython",
    "version": 3
   },
   "file_extension": ".py",
   "mimetype": "text/x-python",
   "name": "python",
   "nbconvert_exporter": "python",
   "pygments_lexer": "ipython3",
   "version": "3.7.8"
  }
 },
 "nbformat": 4,
 "nbformat_minor": 4
}
